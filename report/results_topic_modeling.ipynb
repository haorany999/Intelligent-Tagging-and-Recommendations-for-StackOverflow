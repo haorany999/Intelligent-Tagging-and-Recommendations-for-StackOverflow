{
 "cells": [
  {
   "cell_type": "markdown",
   "metadata": {},
   "source": [
    "# Intelligent Tagging and Recommendation System for StackOverflow Posts\n",
    "### APAN 5430: Applied Text & Natural Language Analytics Term Project\n",
    "#### Group 3\n",
    "#### Group Members: Sixuan Li, Wenyang Cao, Haoran Yang, Wenling Zhou, Jake Xiao\n",
    "#### Github Repo: [https://github.com/educated-fool/stack-overflow-intelligent-tagging](https://github.com/educated-fool/stack-overflow-intelligent-tagging)"
   ]
  },
  {
   "cell_type": "markdown",
   "metadata": {
    "vscode": {
     "languageId": "plaintext"
    }
   },
   "source": [
    "## Introduction\n",
    "This project aims to develop an intelligent tagging and recommendation system for StackOverflow posts. The system will leverage Natural Language Processing (NLP) techniques to predict appropriate tags for new posts and recommend similar posts based on their content."
   ]
  },
  {
   "cell_type": "markdown",
   "metadata": {
    "vscode": {
     "languageId": "plaintext"
    }
   },
   "source": [
    "## Data Description\n",
    "The dataset for this project is obtained from [Kaggle StackOverflow Data](https://www.kaggle.com/datasets/stackoverflow/stacksample/data) and includes three main files:\n",
    "\n",
    "1. **Questions.csv**:\n",
    "   - Contains questions with fields such as Id, OwnerUserId, CreationDate, ClosedDate, Score, Title, and Body.\n",
    "   - The Body field contains HTML content that needs to be cleaned before analysis.\n",
    "\n",
    "2. **Answers.csv**:\n",
    "   - Includes fields like Id, OwnerUserId, CreationDate, ParentId, Score, and Body.\n",
    "   - Similar to questions, the Body field contains HTML content that needs cleaning.\n",
    "\n",
    "3. **Tags.csv**:\n",
    "   - Contains Id and Tag pairs, with each question associated with one or more tags."
   ]
  },
  {
   "cell_type": "markdown",
   "metadata": {
    "vscode": {
     "languageId": "plaintext"
    }
   },
   "source": [
    "## Text Processing"
   ]
  },
  {
   "cell_type": "markdown",
   "metadata": {},
   "source": [
    "### Data Loading"
   ]
  },
  {
   "cell_type": "code",
   "execution_count": 4,
   "metadata": {},
   "outputs": [],
   "source": [
    "import pandas as pd"
   ]
  },
  {
   "cell_type": "code",
   "execution_count": 5,
   "metadata": {},
   "outputs": [],
   "source": [
    "questions_df = pd.read_csv('/Users/wenz/Desktop/CU Summer/5430 NLP/Project/Questions.csv',encoding='ISO-8859-1')"
   ]
  },
  {
   "cell_type": "code",
   "execution_count": 6,
   "metadata": {},
   "outputs": [
    {
     "data": {
      "text/html": [
       "<div>\n",
       "<style scoped>\n",
       "    .dataframe tbody tr th:only-of-type {\n",
       "        vertical-align: middle;\n",
       "    }\n",
       "\n",
       "    .dataframe tbody tr th {\n",
       "        vertical-align: top;\n",
       "    }\n",
       "\n",
       "    .dataframe thead th {\n",
       "        text-align: right;\n",
       "    }\n",
       "</style>\n",
       "<table border=\"1\" class=\"dataframe\">\n",
       "  <thead>\n",
       "    <tr style=\"text-align: right;\">\n",
       "      <th></th>\n",
       "      <th>Id</th>\n",
       "      <th>OwnerUserId</th>\n",
       "      <th>CreationDate</th>\n",
       "      <th>ClosedDate</th>\n",
       "      <th>Score</th>\n",
       "      <th>Title</th>\n",
       "      <th>Body</th>\n",
       "    </tr>\n",
       "  </thead>\n",
       "  <tbody>\n",
       "    <tr>\n",
       "      <th>0</th>\n",
       "      <td>80</td>\n",
       "      <td>26.0</td>\n",
       "      <td>2008-08-01T13:57:07Z</td>\n",
       "      <td>NaN</td>\n",
       "      <td>26</td>\n",
       "      <td>SQLStatement.execute() - multiple queries in o...</td>\n",
       "      <td>&lt;p&gt;I've written a database generation script i...</td>\n",
       "    </tr>\n",
       "    <tr>\n",
       "      <th>1</th>\n",
       "      <td>90</td>\n",
       "      <td>58.0</td>\n",
       "      <td>2008-08-01T14:41:24Z</td>\n",
       "      <td>2012-12-26T03:45:49Z</td>\n",
       "      <td>144</td>\n",
       "      <td>Good branching and merging tutorials for Torto...</td>\n",
       "      <td>&lt;p&gt;Are there any really good tutorials explain...</td>\n",
       "    </tr>\n",
       "    <tr>\n",
       "      <th>2</th>\n",
       "      <td>120</td>\n",
       "      <td>83.0</td>\n",
       "      <td>2008-08-01T15:50:08Z</td>\n",
       "      <td>NaN</td>\n",
       "      <td>21</td>\n",
       "      <td>ASP.NET Site Maps</td>\n",
       "      <td>&lt;p&gt;Has anyone got experience creating &lt;strong&gt;...</td>\n",
       "    </tr>\n",
       "    <tr>\n",
       "      <th>3</th>\n",
       "      <td>180</td>\n",
       "      <td>2089740.0</td>\n",
       "      <td>2008-08-01T18:42:19Z</td>\n",
       "      <td>NaN</td>\n",
       "      <td>53</td>\n",
       "      <td>Function for creating color wheels</td>\n",
       "      <td>&lt;p&gt;This is something I've pseudo-solved many t...</td>\n",
       "    </tr>\n",
       "    <tr>\n",
       "      <th>4</th>\n",
       "      <td>260</td>\n",
       "      <td>91.0</td>\n",
       "      <td>2008-08-01T23:22:08Z</td>\n",
       "      <td>NaN</td>\n",
       "      <td>49</td>\n",
       "      <td>Adding scripting functionality to .NET applica...</td>\n",
       "      <td>&lt;p&gt;I have a little game written in C#. It uses...</td>\n",
       "    </tr>\n",
       "  </tbody>\n",
       "</table>\n",
       "</div>"
      ],
      "text/plain": [
       "    Id  OwnerUserId          CreationDate            ClosedDate  Score  \\\n",
       "0   80         26.0  2008-08-01T13:57:07Z                   NaN     26   \n",
       "1   90         58.0  2008-08-01T14:41:24Z  2012-12-26T03:45:49Z    144   \n",
       "2  120         83.0  2008-08-01T15:50:08Z                   NaN     21   \n",
       "3  180    2089740.0  2008-08-01T18:42:19Z                   NaN     53   \n",
       "4  260         91.0  2008-08-01T23:22:08Z                   NaN     49   \n",
       "\n",
       "                                               Title  \\\n",
       "0  SQLStatement.execute() - multiple queries in o...   \n",
       "1  Good branching and merging tutorials for Torto...   \n",
       "2                                  ASP.NET Site Maps   \n",
       "3                 Function for creating color wheels   \n",
       "4  Adding scripting functionality to .NET applica...   \n",
       "\n",
       "                                                Body  \n",
       "0  <p>I've written a database generation script i...  \n",
       "1  <p>Are there any really good tutorials explain...  \n",
       "2  <p>Has anyone got experience creating <strong>...  \n",
       "3  <p>This is something I've pseudo-solved many t...  \n",
       "4  <p>I have a little game written in C#. It uses...  "
      ]
     },
     "execution_count": 6,
     "metadata": {},
     "output_type": "execute_result"
    }
   ],
   "source": [
    "questions_df.head(5)"
   ]
  },
  {
   "cell_type": "code",
   "execution_count": 7,
   "metadata": {},
   "outputs": [
    {
     "name": "stdout",
     "output_type": "stream",
     "text": [
      "Number of rows: 1264216\n",
      "Number of columns: 7\n"
     ]
    }
   ],
   "source": [
    "print(f\"Number of rows: {questions_df.shape[0]}\")\n",
    "print(f\"Number of columns: {questions_df.shape[1]}\")"
   ]
  },
  {
   "cell_type": "code",
   "execution_count": 8,
   "metadata": {},
   "outputs": [
    {
     "data": {
      "text/html": [
       "<div>\n",
       "<style scoped>\n",
       "    .dataframe tbody tr th:only-of-type {\n",
       "        vertical-align: middle;\n",
       "    }\n",
       "\n",
       "    .dataframe tbody tr th {\n",
       "        vertical-align: top;\n",
       "    }\n",
       "\n",
       "    .dataframe thead th {\n",
       "        text-align: right;\n",
       "    }\n",
       "</style>\n",
       "<table border=\"1\" class=\"dataframe\">\n",
       "  <thead>\n",
       "    <tr style=\"text-align: right;\">\n",
       "      <th></th>\n",
       "      <th>Id</th>\n",
       "      <th>OwnerUserId</th>\n",
       "      <th>CreationDate</th>\n",
       "      <th>ParentId</th>\n",
       "      <th>Score</th>\n",
       "      <th>Body</th>\n",
       "    </tr>\n",
       "  </thead>\n",
       "  <tbody>\n",
       "    <tr>\n",
       "      <th>0</th>\n",
       "      <td>92</td>\n",
       "      <td>61.0</td>\n",
       "      <td>2008-08-01T14:45:37Z</td>\n",
       "      <td>90</td>\n",
       "      <td>13</td>\n",
       "      <td>&lt;p&gt;&lt;a href=\"http://svnbook.red-bean.com/\"&gt;Vers...</td>\n",
       "    </tr>\n",
       "    <tr>\n",
       "      <th>1</th>\n",
       "      <td>124</td>\n",
       "      <td>26.0</td>\n",
       "      <td>2008-08-01T16:09:47Z</td>\n",
       "      <td>80</td>\n",
       "      <td>12</td>\n",
       "      <td>&lt;p&gt;I wound up using this. It is a kind of a ha...</td>\n",
       "    </tr>\n",
       "    <tr>\n",
       "      <th>2</th>\n",
       "      <td>199</td>\n",
       "      <td>50.0</td>\n",
       "      <td>2008-08-01T19:36:46Z</td>\n",
       "      <td>180</td>\n",
       "      <td>1</td>\n",
       "      <td>&lt;p&gt;I've read somewhere the human eye can't dis...</td>\n",
       "    </tr>\n",
       "    <tr>\n",
       "      <th>3</th>\n",
       "      <td>269</td>\n",
       "      <td>91.0</td>\n",
       "      <td>2008-08-01T23:49:57Z</td>\n",
       "      <td>260</td>\n",
       "      <td>4</td>\n",
       "      <td>&lt;p&gt;Yes, I thought about that, but I soon figur...</td>\n",
       "    </tr>\n",
       "    <tr>\n",
       "      <th>4</th>\n",
       "      <td>307</td>\n",
       "      <td>49.0</td>\n",
       "      <td>2008-08-02T01:49:46Z</td>\n",
       "      <td>260</td>\n",
       "      <td>28</td>\n",
       "      <td>&lt;p&gt;&lt;a href=\"http://www.codeproject.com/Article...</td>\n",
       "    </tr>\n",
       "  </tbody>\n",
       "</table>\n",
       "</div>"
      ],
      "text/plain": [
       "    Id  OwnerUserId          CreationDate  ParentId  Score  \\\n",
       "0   92         61.0  2008-08-01T14:45:37Z        90     13   \n",
       "1  124         26.0  2008-08-01T16:09:47Z        80     12   \n",
       "2  199         50.0  2008-08-01T19:36:46Z       180      1   \n",
       "3  269         91.0  2008-08-01T23:49:57Z       260      4   \n",
       "4  307         49.0  2008-08-02T01:49:46Z       260     28   \n",
       "\n",
       "                                                Body  \n",
       "0  <p><a href=\"http://svnbook.red-bean.com/\">Vers...  \n",
       "1  <p>I wound up using this. It is a kind of a ha...  \n",
       "2  <p>I've read somewhere the human eye can't dis...  \n",
       "3  <p>Yes, I thought about that, but I soon figur...  \n",
       "4  <p><a href=\"http://www.codeproject.com/Article...  "
      ]
     },
     "execution_count": 8,
     "metadata": {},
     "output_type": "execute_result"
    }
   ],
   "source": [
    "answers_df = pd.read_csv('/Users/wenz/Desktop/CU Summer/5430 NLP/Project/Answers.csv',encoding='ISO-8859-1')\n",
    "answers_df.head(5)"
   ]
  },
  {
   "cell_type": "code",
   "execution_count": 9,
   "metadata": {},
   "outputs": [
    {
     "data": {
      "text/html": [
       "<div>\n",
       "<style scoped>\n",
       "    .dataframe tbody tr th:only-of-type {\n",
       "        vertical-align: middle;\n",
       "    }\n",
       "\n",
       "    .dataframe tbody tr th {\n",
       "        vertical-align: top;\n",
       "    }\n",
       "\n",
       "    .dataframe thead th {\n",
       "        text-align: right;\n",
       "    }\n",
       "</style>\n",
       "<table border=\"1\" class=\"dataframe\">\n",
       "  <thead>\n",
       "    <tr style=\"text-align: right;\">\n",
       "      <th></th>\n",
       "      <th>Id</th>\n",
       "      <th>Tag</th>\n",
       "    </tr>\n",
       "  </thead>\n",
       "  <tbody>\n",
       "    <tr>\n",
       "      <th>0</th>\n",
       "      <td>80</td>\n",
       "      <td>flex</td>\n",
       "    </tr>\n",
       "    <tr>\n",
       "      <th>1</th>\n",
       "      <td>80</td>\n",
       "      <td>actionscript-3</td>\n",
       "    </tr>\n",
       "    <tr>\n",
       "      <th>2</th>\n",
       "      <td>80</td>\n",
       "      <td>air</td>\n",
       "    </tr>\n",
       "    <tr>\n",
       "      <th>3</th>\n",
       "      <td>90</td>\n",
       "      <td>svn</td>\n",
       "    </tr>\n",
       "    <tr>\n",
       "      <th>4</th>\n",
       "      <td>90</td>\n",
       "      <td>tortoisesvn</td>\n",
       "    </tr>\n",
       "  </tbody>\n",
       "</table>\n",
       "</div>"
      ],
      "text/plain": [
       "   Id             Tag\n",
       "0  80            flex\n",
       "1  80  actionscript-3\n",
       "2  80             air\n",
       "3  90             svn\n",
       "4  90     tortoisesvn"
      ]
     },
     "execution_count": 9,
     "metadata": {},
     "output_type": "execute_result"
    }
   ],
   "source": [
    "tags_df = pd.read_csv('/Users/wenz/Desktop/CU Summer/5430 NLP/Project/Tags.csv',encoding='ISO-8859-1')\n",
    "tags_df.head(5)"
   ]
  },
  {
   "cell_type": "code",
   "execution_count": 10,
   "metadata": {},
   "outputs": [
    {
     "name": "stdout",
     "output_type": "stream",
     "text": [
      "Number of rows: 3750994\n",
      "Number of columns: 2\n"
     ]
    }
   ],
   "source": [
    "print(f\"Number of rows: {tags_df.shape[0]}\")\n",
    "print(f\"Number of columns: {tags_df.shape[1]}\")"
   ]
  },
  {
   "cell_type": "markdown",
   "metadata": {},
   "source": [
    "There is a one-to-many relationship between the `Questions` and `Tags` tables. Specifically, each question can have multiple tags, but in the `Tags` table, each record contains only a single question ID and tag pair."
   ]
  },
  {
   "cell_type": "markdown",
   "metadata": {},
   "source": [
    "### Data Preprocessing\n",
    "The code handles null values, drops unnecessary columns, and combines tags with corresponding questions. It also prepares for later visualization and tokenization tasks."
   ]
  },
  {
   "cell_type": "code",
   "execution_count": 11,
   "metadata": {},
   "outputs": [
    {
     "name": "stdout",
     "output_type": "stream",
     "text": [
      "Null values in Questions dataframe:\n",
      "Id                    0\n",
      "OwnerUserId       14454\n",
      "CreationDate          0\n",
      "ClosedDate      1208257\n",
      "Score                 0\n",
      "Title                 0\n",
      "Body                  0\n",
      "dtype: int64\n",
      "\n",
      "Null values in Answers dataframe:\n",
      "Id                  0\n",
      "OwnerUserId     13200\n",
      "CreationDate        0\n",
      "ParentId            0\n",
      "Score               0\n",
      "Body                0\n",
      "dtype: int64\n",
      "\n",
      "Null values in Tags dataframe:\n",
      "Id        0\n",
      "Tag    1113\n",
      "dtype: int64\n"
     ]
    }
   ],
   "source": [
    "# Check for null values in Questions dataframe\n",
    "print(\"Null values in Questions dataframe:\")\n",
    "print(questions_df.isnull().sum())\n",
    "\n",
    "# Check for null values in Answers dataframe\n",
    "print(\"\\nNull values in Answers dataframe:\")\n",
    "print(answers_df.isnull().sum())\n",
    "\n",
    "# Check for null values in Tags dataframe\n",
    "print(\"\\nNull values in Tags dataframe:\")\n",
    "print(tags_df.isnull().sum())"
   ]
  },
  {
   "cell_type": "code",
   "execution_count": 12,
   "metadata": {},
   "outputs": [
    {
     "data": {
      "text/plain": [
       "Tag\n",
       "javascript        124155\n",
       "java              115212\n",
       "c#                101186\n",
       "php                98808\n",
       "android            90659\n",
       "jquery             78542\n",
       "python             64601\n",
       "html               58976\n",
       "c++                47591\n",
       "ios                47009\n",
       "mysql              42464\n",
       "css                42308\n",
       "sql                35782\n",
       "asp.net            29970\n",
       "objective-c        26922\n",
       "ruby-on-rails      25789\n",
       ".net               24059\n",
       "c                  23238\n",
       "iphone             21539\n",
       "angularjs          20345\n",
       "arrays             19799\n",
       "sql-server         18160\n",
       "json               17669\n",
       "ruby               17013\n",
       "r                  15701\n",
       "ajax               15629\n",
       "regex              15349\n",
       "xml                14763\n",
       "node.js            14525\n",
       "asp.net-mvc        14284\n",
       "linux              13395\n",
       "django             12818\n",
       "wpf                12365\n",
       "database           11860\n",
       "swift              11832\n",
       "xcode              10633\n",
       "string             10427\n",
       "excel              10384\n",
       "vb.net             10286\n",
       "windows            10142\n",
       "spring              9935\n",
       "wordpress           9913\n",
       "eclipse             9895\n",
       "html5               9564\n",
       "multithreading      9006\n",
       "oracle              7645\n",
       "git                 7626\n",
       "facebook            7598\n",
       "forms               7588\n",
       "bash                7484\n",
       "Name: count, dtype: int64"
      ]
     },
     "execution_count": 12,
     "metadata": {},
     "output_type": "execute_result"
    }
   ],
   "source": [
    "# Count the frequency of each tag\n",
    "tag_value_counts = tags_df[\"Tag\"].value_counts()\n",
    "\n",
    "# Select the top 50 tags based on their frequency\n",
    "top_fifty_tags = tag_value_counts.head(50)\n",
    "\n",
    "# Display the top 50 tags\n",
    "top_fifty_tags"
   ]
  },
  {
   "cell_type": "code",
   "execution_count": 13,
   "metadata": {},
   "outputs": [
    {
     "data": {
      "image/png": "[encoded data removed]",
      "text/plain": [
       "<Figure size 1500x800 with 1 Axes>"
      ]
     },
     "metadata": {},
     "output_type": "display_data"
    }
   ],
   "source": [
    "# Import necessary libraries for plotting\n",
    "import matplotlib.pyplot as plt\n",
    "import seaborn as sns\n",
    "\n",
    "# Set the style and context for the plot\n",
    "sns.set(style=\"whitegrid\", context=\"talk\")\n",
    "\n",
    "# Create a figure and axis for the plot\n",
    "plt.figure(figsize=(15, 8))\n",
    "\n",
    "# Plot a bar chart of the top 50 tags\n",
    "sns.barplot(x=top_fifty_tags.index, y=top_fifty_tags.values, palette=\"Blues_d\", hue=top_fifty_tags.index, dodge=False)\n",
    "\n",
    "# Set the labels and title\n",
    "plt.xlabel('Tags', fontsize=14)\n",
    "plt.ylabel('Counts', fontsize=14)\n",
    "plt.title('Top 50 Tags', fontsize=18)\n",
    "\n",
    "# Rotate the x-axis labels for better readability\n",
    "plt.xticks(rotation=70, fontsize=12)\n",
    "plt.yticks(fontsize=12)\n",
    "\n",
    "# Remove the legend\n",
    "plt.legend([],[], frameon=False)\n",
    "\n",
    "# Adjust the layout to fit all elements\n",
    "plt.tight_layout()\n",
    "\n",
    "# Display the plot\n",
    "plt.show()"
   ]
  },
  {
   "cell_type": "markdown",
   "metadata": {},
   "source": [
    "The distribution of questions per tag shows a clear long-tail pattern. To improve the efficiency of model training while maintaining high accuracy, we can focus on a subset of the most frequent tags."
   ]
  },
  {
   "cell_type": "code",
   "execution_count": 14,
   "metadata": {},
   "outputs": [
    {
     "data": {
      "text/plain": [
       "Tag\n",
       "javascript            3.31%\n",
       "java                  6.38%\n",
       "c#                    9.08%\n",
       "php                  11.72%\n",
       "android              14.13%\n",
       "                      ...  \n",
       "dc.js                89.94%\n",
       "sunspot              89.94%\n",
       "singly-linked-list   89.94%\n",
       "hadoop-streaming     89.95%\n",
       "metrics              89.95%\n",
       "Name: count, Length: 4000, dtype: float64"
      ]
     },
     "execution_count": 14,
     "metadata": {},
     "output_type": "execute_result"
    }
   ],
   "source": [
    "# Set pandas option to display percentages with two decimal places\n",
    "pd.options.display.float_format = \"{:.2f}%\".format\n",
    "\n",
    "# Calculate the cumulative percentage of the top 4000 tags\n",
    "cumulative_percentage_top_4000_tags = 100 * tag_value_counts.head(4000).cumsum() / tag_value_counts.sum()\n",
    "\n",
    "# Display the cumulative percentage\n",
    "cumulative_percentage_top_4000_tags"
   ]
  },
  {
   "cell_type": "markdown",
   "metadata": {},
   "source": [
    "#### Standardizing Column Names and Merging Data"
   ]
  },
  {
   "cell_type": "code",
   "execution_count": 15,
   "metadata": {},
   "outputs": [
    {
     "data": {
      "text/html": [
       "<div>\n",
       "<style scoped>\n",
       "    .dataframe tbody tr th:only-of-type {\n",
       "        vertical-align: middle;\n",
       "    }\n",
       "\n",
       "    .dataframe tbody tr th {\n",
       "        vertical-align: top;\n",
       "    }\n",
       "\n",
       "    .dataframe thead th {\n",
       "        text-align: right;\n",
       "    }\n",
       "</style>\n",
       "<table border=\"1\" class=\"dataframe\">\n",
       "  <thead>\n",
       "    <tr style=\"text-align: right;\">\n",
       "      <th></th>\n",
       "      <th>id</th>\n",
       "      <th>title</th>\n",
       "      <th>body</th>\n",
       "      <th>tag</th>\n",
       "      <th>tag_count</th>\n",
       "    </tr>\n",
       "  </thead>\n",
       "  <tbody>\n",
       "    <tr>\n",
       "      <th>0</th>\n",
       "      <td>80</td>\n",
       "      <td>SQLStatement.execute() - multiple queries in o...</td>\n",
       "      <td>&lt;p&gt;I've written a database generation script i...</td>\n",
       "      <td>[flex, actionscript-3, air]</td>\n",
       "      <td>3</td>\n",
       "    </tr>\n",
       "    <tr>\n",
       "      <th>1</th>\n",
       "      <td>90</td>\n",
       "      <td>Good branching and merging tutorials for Torto...</td>\n",
       "      <td>&lt;p&gt;Are there any really good tutorials explain...</td>\n",
       "      <td>[svn, tortoisesvn, branch, branching-and-merging]</td>\n",
       "      <td>4</td>\n",
       "    </tr>\n",
       "    <tr>\n",
       "      <th>2</th>\n",
       "      <td>120</td>\n",
       "      <td>ASP.NET Site Maps</td>\n",
       "      <td>&lt;p&gt;Has anyone got experience creating &lt;strong&gt;...</td>\n",
       "      <td>[sql, asp.net, sitemap]</td>\n",
       "      <td>3</td>\n",
       "    </tr>\n",
       "    <tr>\n",
       "      <th>3</th>\n",
       "      <td>180</td>\n",
       "      <td>Function for creating color wheels</td>\n",
       "      <td>&lt;p&gt;This is something I've pseudo-solved many t...</td>\n",
       "      <td>[algorithm, language-agnostic, colors, color-s...</td>\n",
       "      <td>4</td>\n",
       "    </tr>\n",
       "    <tr>\n",
       "      <th>4</th>\n",
       "      <td>260</td>\n",
       "      <td>Adding scripting functionality to .NET applica...</td>\n",
       "      <td>&lt;p&gt;I have a little game written in C#. It uses...</td>\n",
       "      <td>[c#, .net, scripting, compiler-construction]</td>\n",
       "      <td>4</td>\n",
       "    </tr>\n",
       "  </tbody>\n",
       "</table>\n",
       "</div>"
      ],
      "text/plain": [
       "    id                                              title  \\\n",
       "0   80  SQLStatement.execute() - multiple queries in o...   \n",
       "1   90  Good branching and merging tutorials for Torto...   \n",
       "2  120                                  ASP.NET Site Maps   \n",
       "3  180                 Function for creating color wheels   \n",
       "4  260  Adding scripting functionality to .NET applica...   \n",
       "\n",
       "                                                body  \\\n",
       "0  <p>I've written a database generation script i...   \n",
       "1  <p>Are there any really good tutorials explain...   \n",
       "2  <p>Has anyone got experience creating <strong>...   \n",
       "3  <p>This is something I've pseudo-solved many t...   \n",
       "4  <p>I have a little game written in C#. It uses...   \n",
       "\n",
       "                                                 tag  tag_count  \n",
       "0                        [flex, actionscript-3, air]          3  \n",
       "1  [svn, tortoisesvn, branch, branching-and-merging]          4  \n",
       "2                            [sql, asp.net, sitemap]          3  \n",
       "3  [algorithm, language-agnostic, colors, color-s...          4  \n",
       "4       [c#, .net, scripting, compiler-construction]          4  "
      ]
     },
     "execution_count": 15,
     "metadata": {},
     "output_type": "execute_result"
    }
   ],
   "source": [
    "# Standardize column names to lowercase\n",
    "for df in [questions_df, tags_df]:\n",
    "    df.columns = df.columns.str.lower()\n",
    "\n",
    "# Group tags by question ID\n",
    "tags_per_question_df = tags_df.groupby(['id'])['tag'].apply(list)\n",
    "\n",
    "# Merge the relevant columns from questions_df with the grouped tags\n",
    "questions_tags_df = questions_df[[\"id\", \"title\", \"body\"]].merge(tags_per_question_df.to_frame(), on=\"id\")\n",
    "\n",
    "# Add a column for the count of tags per question\n",
    "questions_tags_df[\"tag_count\"] = questions_tags_df[\"tag\"].apply(len)\n",
    "\n",
    "# Display the first few rows of the merged dataframe\n",
    "questions_tags_df.head()"
   ]
  },
  {
   "cell_type": "markdown",
   "metadata": {},
   "source": [
    "#### HTML Cleaning and Special Character Removal"
   ]
  },
  {
   "cell_type": "code",
   "execution_count": 16,
   "metadata": {},
   "outputs": [],
   "source": [
    "from bs4 import BeautifulSoup\n",
    "import re\n",
    "\n",
    "# Function to clean HTML content\n",
    "def clean_html(text):\n",
    "    soup = BeautifulSoup(text, \"html.parser\")\n",
    "    return soup.get_text()\n",
    "\n",
    "# Function to remove special characters\n",
    "def remove_special_characters(text):\n",
    "    text = re.sub(r'\\W', ' ', text)  # Remove non-word characters\n",
    "    text = re.sub(r'\\s+', ' ', text)  # Replace multiple spaces with a single space\n",
    "    return text.strip()"
   ]
  },
  {
   "cell_type": "code",
   "execution_count": 17,
   "metadata": {},
   "outputs": [],
   "source": [
    "from tqdm import tqdm\n",
    "tqdm.pandas()"
   ]
  },
  {
   "cell_type": "code",
   "execution_count": 18,
   "metadata": {},
   "outputs": [
    {
     "name": "stderr",
     "output_type": "stream",
     "text": [
      "  0%|          | 0/1264216 [00:00<?, ?it/s]"
     ]
    },
    {
     "name": "stderr",
     "output_type": "stream",
     "text": [
      "100%|██████████| 1264216/1264216 [00:06<00:00, 185330.06it/s]\n",
      "100%|██████████| 1264216/1264216 [04:33<00:00, 4614.76it/s]\n",
      "100%|██████████| 1264216/1264216 [02:15<00:00, 9345.67it/s]\n"
     ]
    }
   ],
   "source": [
    "from tqdm import tqdm\n",
    "tqdm.pandas()\n",
    "\n",
    "questions_tags_df[\"title\"] = questions_tags_df[\"title\"].progress_apply(remove_special_characters)\n",
    "questions_tags_df[\"body\"] = questions_tags_df[\"body\"].progress_apply(clean_html).progress_apply(remove_special_characters)\n"
   ]
  },
  {
   "cell_type": "code",
   "execution_count": 19,
   "metadata": {},
   "outputs": [
    {
     "data": {
      "text/html": [
       "<div>\n",
       "<style scoped>\n",
       "    .dataframe tbody tr th:only-of-type {\n",
       "        vertical-align: middle;\n",
       "    }\n",
       "\n",
       "    .dataframe tbody tr th {\n",
       "        vertical-align: top;\n",
       "    }\n",
       "\n",
       "    .dataframe thead th {\n",
       "        text-align: right;\n",
       "    }\n",
       "</style>\n",
       "<table border=\"1\" class=\"dataframe\">\n",
       "  <thead>\n",
       "    <tr style=\"text-align: right;\">\n",
       "      <th></th>\n",
       "      <th>id</th>\n",
       "      <th>title</th>\n",
       "      <th>body</th>\n",
       "      <th>tag</th>\n",
       "      <th>tag_count</th>\n",
       "    </tr>\n",
       "  </thead>\n",
       "  <tbody>\n",
       "    <tr>\n",
       "      <th>0</th>\n",
       "      <td>80</td>\n",
       "      <td>SQLStatement execute multiple queries in one s...</td>\n",
       "      <td>I ve written a database generation script in S...</td>\n",
       "      <td>[flex, actionscript-3, air]</td>\n",
       "      <td>3</td>\n",
       "    </tr>\n",
       "    <tr>\n",
       "      <th>1</th>\n",
       "      <td>90</td>\n",
       "      <td>Good branching and merging tutorials for Torto...</td>\n",
       "      <td>Are there any really good tutorials explaining...</td>\n",
       "      <td>[svn, tortoisesvn, branch, branching-and-merging]</td>\n",
       "      <td>4</td>\n",
       "    </tr>\n",
       "    <tr>\n",
       "      <th>2</th>\n",
       "      <td>120</td>\n",
       "      <td>ASP NET Site Maps</td>\n",
       "      <td>Has anyone got experience creating SQL based A...</td>\n",
       "      <td>[sql, asp.net, sitemap]</td>\n",
       "      <td>3</td>\n",
       "    </tr>\n",
       "    <tr>\n",
       "      <th>3</th>\n",
       "      <td>180</td>\n",
       "      <td>Function for creating color wheels</td>\n",
       "      <td>This is something I ve pseudo solved many time...</td>\n",
       "      <td>[algorithm, language-agnostic, colors, color-s...</td>\n",
       "      <td>4</td>\n",
       "    </tr>\n",
       "    <tr>\n",
       "      <th>4</th>\n",
       "      <td>260</td>\n",
       "      <td>Adding scripting functionality to NET applicat...</td>\n",
       "      <td>I have a little game written in C It uses a da...</td>\n",
       "      <td>[c#, .net, scripting, compiler-construction]</td>\n",
       "      <td>4</td>\n",
       "    </tr>\n",
       "  </tbody>\n",
       "</table>\n",
       "</div>"
      ],
      "text/plain": [
       "    id                                              title  \\\n",
       "0   80  SQLStatement execute multiple queries in one s...   \n",
       "1   90  Good branching and merging tutorials for Torto...   \n",
       "2  120                                  ASP NET Site Maps   \n",
       "3  180                 Function for creating color wheels   \n",
       "4  260  Adding scripting functionality to NET applicat...   \n",
       "\n",
       "                                                body  \\\n",
       "0  I ve written a database generation script in S...   \n",
       "1  Are there any really good tutorials explaining...   \n",
       "2  Has anyone got experience creating SQL based A...   \n",
       "3  This is something I ve pseudo solved many time...   \n",
       "4  I have a little game written in C It uses a da...   \n",
       "\n",
       "                                                 tag  tag_count  \n",
       "0                        [flex, actionscript-3, air]          3  \n",
       "1  [svn, tortoisesvn, branch, branching-and-merging]          4  \n",
       "2                            [sql, asp.net, sitemap]          3  \n",
       "3  [algorithm, language-agnostic, colors, color-s...          4  \n",
       "4       [c#, .net, scripting, compiler-construction]          4  "
      ]
     },
     "execution_count": 19,
     "metadata": {},
     "output_type": "execute_result"
    }
   ],
   "source": [
    "questions_tags_df.head()"
   ]
  },
  {
   "cell_type": "markdown",
   "metadata": {},
   "source": [
    "### Lemmatization and Tokenization\n",
    "\n",
    "This section preprocesses text data by performing lemmatization and tokenization, while also removing stopwords and handling multi-word expressions. By converting text to lowercase and breaking it into meaningful tokens, we ensure that only relevant words are retained. Multi-word expressions like \"c++\" are treated as single tokens to preserve their meaning. The cleaned tokens are then prepared for feature extraction and vectorization, which are crucial steps for training NLP models."
   ]
  },
  {
   "cell_type": "code",
   "execution_count": 20,
   "metadata": {},
   "outputs": [
    {
     "name": "stderr",
     "output_type": "stream",
     "text": [
      "[nltk_data] Downloading package punkt to /Users/wenz/nltk_data...\n",
      "[nltk_data]   Package punkt is already up-to-date!\n",
      "[nltk_data] Downloading package stopwords to /Users/wenz/nltk_data...\n",
      "[nltk_data]   Package stopwords is already up-to-date!\n",
      "[nltk_data] Downloading package wordnet to /Users/wenz/nltk_data...\n",
      "[nltk_data]   Package wordnet is already up-to-date!\n"
     ]
    }
   ],
   "source": [
    "import spacy\n",
    "from nltk.tokenize import word_tokenize\n",
    "from nltk.corpus import stopwords\n",
    "from nltk.stem import WordNetLemmatizer\n",
    "from sklearn.feature_extraction.text import TfidfVectorizer\n",
    "from nltk.tokenize.mwe import MWETokenizer\n",
    "\n",
    "import nltk\n",
    "nltk.download('punkt')\n",
    "nltk.download('stopwords')\n",
    "nltk.download('wordnet')\n",
    "\n",
    "# Load the spaCy model for lemmatization\n",
    "nlp = spacy.load('en_core_web_sm')\n",
    "\n",
    "# Initialize the WordNetLemmatizer and stopwords\n",
    "lemmatizer = WordNetLemmatizer()\n",
    "stop_words = set(stopwords.words('english'))\n",
    "\n",
    "# Define common multi-word expressions to be treated as single tokens\n",
    "topics_with_symbols = [\"c#\", \"c++\", \".net\", \"asp.net\", \"node.js\", \"objective-c\", \"unity3d\", \"html5\", \"css3\", \n",
    "                       \"d3.js\", \"utf-8\", \"neo4j\", \"scikit-learn\", \"f#\", \"3d\", \"x86\"]\n",
    "\n",
    "# Initialize the MWE Tokenizer\n",
    "mwe_tokenizer = MWETokenizer(separator=\"\")\n",
    "mwe_tokenizer.add_mwe((\"c\", \"#\"))\n",
    "mwe_tokenizer.add_mwe((\"c\", \"+\", \"+\"))\n",
    "mwe_tokenizer.add_mwe((\"f\", \"#\"))"
   ]
  },
  {
   "cell_type": "code",
   "execution_count": 21,
   "metadata": {},
   "outputs": [],
   "source": [
    "def preprocess_text(text):\n",
    "    text = text.lower()  # Convert text to lowercase\n",
    "    words = word_tokenize(text)  # Tokenize text into words\n",
    "    \n",
    "    # Remove stopwords and non-alphabetic characters\n",
    "    words = [word for word in words if word.isalpha() or word in list(\"+#\") + topics_with_symbols]\n",
    "    words = [word for word in words if word.lower() not in stop_words]\n",
    "\n",
    "    # Multi-Word Expression (MWE) Processing\n",
    "    words = mwe_tokenizer.tokenize(words)\n",
    "    words = [lemmatizer.lemmatize(word) for word in words]  # Lemmatize words\n",
    "    return words"
   ]
  },
  {
   "cell_type": "code",
   "execution_count": 22,
   "metadata": {},
   "outputs": [
    {
     "name": "stderr",
     "output_type": "stream",
     "text": [
      "100%|██████████| 1264216/1264216 [16:10<00:00, 1302.34it/s]\n"
     ]
    }
   ],
   "source": [
    "questions_tags_df[\"body_tokenized\"] = questions_tags_df[\"body\"].progress_apply(preprocess_text)"
   ]
  },
  {
   "cell_type": "code",
   "execution_count": 23,
   "metadata": {},
   "outputs": [
    {
     "name": "stderr",
     "output_type": "stream",
     "text": [
      "  0%|          | 0/1264216 [00:00<?, ?it/s]"
     ]
    },
    {
     "name": "stderr",
     "output_type": "stream",
     "text": [
      "100%|██████████| 1264216/1264216 [04:54<00:00, 4287.28it/s] \n"
     ]
    }
   ],
   "source": [
    "questions_tags_df[\"title_tokenized\"] = questions_tags_df[\"title\"].progress_apply(preprocess_text)"
   ]
  },
  {
   "cell_type": "code",
   "execution_count": 24,
   "metadata": {},
   "outputs": [
    {
     "data": {
      "text/html": [
       "<div>\n",
       "<style scoped>\n",
       "    .dataframe tbody tr th:only-of-type {\n",
       "        vertical-align: middle;\n",
       "    }\n",
       "\n",
       "    .dataframe tbody tr th {\n",
       "        vertical-align: top;\n",
       "    }\n",
       "\n",
       "    .dataframe thead th {\n",
       "        text-align: right;\n",
       "    }\n",
       "</style>\n",
       "<table border=\"1\" class=\"dataframe\">\n",
       "  <thead>\n",
       "    <tr style=\"text-align: right;\">\n",
       "      <th></th>\n",
       "      <th>id</th>\n",
       "      <th>title</th>\n",
       "      <th>body</th>\n",
       "      <th>tag</th>\n",
       "      <th>tag_count</th>\n",
       "      <th>body_tokenized</th>\n",
       "      <th>title_tokenized</th>\n",
       "    </tr>\n",
       "  </thead>\n",
       "  <tbody>\n",
       "    <tr>\n",
       "      <th>731244</th>\n",
       "      <td>24842900</td>\n",
       "      <td>Embedding Russian language edition of Ukraine ...</td>\n",
       "      <td>Until recently Google Maps offered a Russian l...</td>\n",
       "      <td>[google-maps, localization, embedding]</td>\n",
       "      <td>3</td>\n",
       "      <td>[recently, google, map, offered, russian, lang...</td>\n",
       "      <td>[embedding, russian, language, edition, ukrain...</td>\n",
       "    </tr>\n",
       "    <tr>\n",
       "      <th>376093</th>\n",
       "      <td>13377750</td>\n",
       "      <td>iOS Not the typical background location tracki...</td>\n",
       "      <td>i m developing a sample app that tracks the us...</td>\n",
       "      <td>[ios, background, nstimer, core-location, obje...</td>\n",
       "      <td>5</td>\n",
       "      <td>[developing, sample, app, track, user, positio...</td>\n",
       "      <td>[io, typical, background, location, tracking, ...</td>\n",
       "    </tr>\n",
       "    <tr>\n",
       "      <th>492360</th>\n",
       "      <td>17171450</td>\n",
       "      <td>How to reload webview in AppDelegate when tab ...</td>\n",
       "      <td>im new in iOs development and i cant solve thi...</td>\n",
       "      <td>[ios]</td>\n",
       "      <td>1</td>\n",
       "      <td>[im, new, io, development, cant, solve, proble...</td>\n",
       "      <td>[reload, webview, appdelegate, tab, selected, io]</td>\n",
       "    </tr>\n",
       "    <tr>\n",
       "      <th>313503</th>\n",
       "      <td>11345260</td>\n",
       "      <td>How to determine height of the toolbar in UINa...</td>\n",
       "      <td>I have a view with a toolbar presented by a UI...</td>\n",
       "      <td>[iphone, objective-c, ios, uiview, uikit]</td>\n",
       "      <td>5</td>\n",
       "      <td>[view, toolbar, presented, uinavigationcontrol...</td>\n",
       "      <td>[determine, height, toolbar, uinavigationcontr...</td>\n",
       "    </tr>\n",
       "    <tr>\n",
       "      <th>38833</th>\n",
       "      <td>1920980</td>\n",
       "      <td>How can I define in Visual Studio a new constant</td>\n",
       "      <td>I need to define a new constant in Visual Stud...</td>\n",
       "      <td>[visual-studio-2008]</td>\n",
       "      <td>1</td>\n",
       "      <td>[need, define, new, constant, visual, studio, ...</td>\n",
       "      <td>[define, visual, studio, new, constant]</td>\n",
       "    </tr>\n",
       "  </tbody>\n",
       "</table>\n",
       "</div>"
      ],
      "text/plain": [
       "              id                                              title  \\\n",
       "731244  24842900  Embedding Russian language edition of Ukraine ...   \n",
       "376093  13377750  iOS Not the typical background location tracki...   \n",
       "492360  17171450  How to reload webview in AppDelegate when tab ...   \n",
       "313503  11345260  How to determine height of the toolbar in UINa...   \n",
       "38833    1920980   How can I define in Visual Studio a new constant   \n",
       "\n",
       "                                                     body  \\\n",
       "731244  Until recently Google Maps offered a Russian l...   \n",
       "376093  i m developing a sample app that tracks the us...   \n",
       "492360  im new in iOs development and i cant solve thi...   \n",
       "313503  I have a view with a toolbar presented by a UI...   \n",
       "38833   I need to define a new constant in Visual Stud...   \n",
       "\n",
       "                                                      tag  tag_count  \\\n",
       "731244             [google-maps, localization, embedding]          3   \n",
       "376093  [ios, background, nstimer, core-location, obje...          5   \n",
       "492360                                              [ios]          1   \n",
       "313503          [iphone, objective-c, ios, uiview, uikit]          5   \n",
       "38833                                [visual-studio-2008]          1   \n",
       "\n",
       "                                           body_tokenized  \\\n",
       "731244  [recently, google, map, offered, russian, lang...   \n",
       "376093  [developing, sample, app, track, user, positio...   \n",
       "492360  [im, new, io, development, cant, solve, proble...   \n",
       "313503  [view, toolbar, presented, uinavigationcontrol...   \n",
       "38833   [need, define, new, constant, visual, studio, ...   \n",
       "\n",
       "                                          title_tokenized  \n",
       "731244  [embedding, russian, language, edition, ukrain...  \n",
       "376093  [io, typical, background, location, tracking, ...  \n",
       "492360  [reload, webview, appdelegate, tab, selected, io]  \n",
       "313503  [determine, height, toolbar, uinavigationcontr...  \n",
       "38833             [define, visual, studio, new, constant]  "
      ]
     },
     "execution_count": 24,
     "metadata": {},
     "output_type": "execute_result"
    }
   ],
   "source": [
    "questions_tags_df.sample(5)"
   ]
  },
  {
   "cell_type": "code",
   "execution_count": 26,
   "metadata": {},
   "outputs": [],
   "source": [
    "questions_tags_df.to_pickle(\"/Users/wenz/Desktop/CU Summer/5430 NLP/Project/tp1.pkl\")"
   ]
  },
  {
   "cell_type": "markdown",
   "metadata": {},
   "source": [
    "#### Filtering Tags and Vectorization\n",
    "\n",
    "Analysis of the cumulative frequency distribution reveals that the top 4,000 tags account for 90% of the content. To ensure efficiency and relevance, we will focus on these top 4,000 tags for further analysis. By filtering our dataset to include only these frequently occurring tags, we reduce its dimensionality and enhance the efficiency of subsequent analysis and model training."
   ]
  },
  {
   "cell_type": "code",
   "execution_count": 27,
   "metadata": {},
   "outputs": [
    {
     "name": "stderr",
     "output_type": "stream",
     "text": [
      "100%|██████████| 1264216/1264216 [03:47<00:00, 5552.81it/s] \n"
     ]
    }
   ],
   "source": [
    "from collections import Counter\n",
    "\n",
    "# Count the frequency of each tag\n",
    "tag_count = Counter(tag for tags in questions_tags_df['tag'] for tag in tags)\n",
    "\n",
    "# Identify the top 4,000 most common tags\n",
    "top_common_tags = [count[0] for count in tag_count.most_common(4000)]\n",
    "\n",
    "# Filter the tags in the dataset to retain only the top 4,000 tags\n",
    "questions_tags_df[\"tag\"] = questions_tags_df[\"tag\"].progress_apply(\n",
    "    lambda tags: [tag for tag in tags if tag in top_common_tags]\n",
    ")"
   ]
  },
  {
   "cell_type": "markdown",
   "metadata": {},
   "source": [
    "##### TF-IDF Vectorization for Titles and Bodies"
   ]
  },
  {
   "cell_type": "code",
   "execution_count": 28,
   "metadata": {},
   "outputs": [
    {
     "name": "stderr",
     "output_type": "stream",
     "text": [
      "/Users/wenz/anaconda3/lib/python3.11/site-packages/sklearn/feature_extraction/text.py:521: UserWarning: The parameter 'token_pattern' will not be used since 'tokenizer' is not None'\n",
      "  warnings.warn(\n"
     ]
    },
    {
     "name": "stdout",
     "output_type": "stream",
     "text": [
      "Top 15 TF-IDF features for a sample title vector:\n",
      "recordset   0.68%\n",
      "connect     0.44%\n",
      "loop        0.38%\n",
      "database    0.34%\n",
      "c           0.28%\n",
      "Name: 10, dtype: float64\n",
      "\n",
      "Top 15 TF-IDF features for a sample body vector:\n",
      "simplest   0.60%\n",
      "connect    0.38%\n",
      "record     0.38%\n",
      "query      0.31%\n",
      "database   0.30%\n",
      "c          0.25%\n",
      "set        0.24%\n",
      "way        0.22%\n",
      "Name: 10, dtype: float64\n"
     ]
    }
   ],
   "source": [
    "from sklearn.feature_extraction.text import TfidfVectorizer\n",
    "import pandas as pd\n",
    "\n",
    "# Define a dummy tokenizer function that returns the input string as is\n",
    "def dummy_tokenizer(string):\n",
    "    return string\n",
    "\n",
    "# Create a TfidfVectorizer for the titles with specified parameters\n",
    "title_vectorizer = TfidfVectorizer(tokenizer=dummy_tokenizer, lowercase=False, max_features=10000)\n",
    "\n",
    "# Fit and transform the tokenized titles to TF-IDF vectors\n",
    "x_title = title_vectorizer.fit_transform(questions_tags_df[\"title_tokenized\"])\n",
    "\n",
    "# Create a TfidfVectorizer for the bodies with specified parameters\n",
    "body_vectorizer = TfidfVectorizer(tokenizer=dummy_tokenizer, lowercase=False, max_features=100000)\n",
    "\n",
    "# Fit and transform the tokenized bodies to TF-IDF vectors\n",
    "x_body = body_vectorizer.fit_transform(questions_tags_df[\"body_tokenized\"])\n",
    "\n",
    "# Convert the first 50 TF-IDF title vectors to a DataFrame, get feature names\n",
    "title_df = pd.DataFrame(x_title[:50].toarray(), columns=title_vectorizer.get_feature_names_out())\n",
    "top_title_features = title_df.iloc[10].sort_values(ascending=False).where(lambda v: v > 0).dropna().head(15)\n",
    "\n",
    "# Display the top 15 features for a sample title vector\n",
    "print(\"Top 15 TF-IDF features for a sample title vector:\")\n",
    "print(top_title_features)\n",
    "\n",
    "# Convert the first 50 TF-IDF body vectors to a DataFrame, get feature names\n",
    "body_df = pd.DataFrame(x_body[:50].toarray(), columns=body_vectorizer.get_feature_names_out())\n",
    "top_body_features = body_df.iloc[10].sort_values(ascending=False).where(lambda v: v > 0).dropna().head(15)\n",
    "\n",
    "# Display the top 15 features for a sample body vector\n",
    "print(\"\\nTop 15 TF-IDF features for a sample body vector:\")\n",
    "print(top_body_features)"
   ]
  },
  {
   "cell_type": "markdown",
   "metadata": {},
   "source": [
    "#### Identifying and Removing Duplicate Titles"
   ]
  },
  {
   "cell_type": "code",
   "execution_count": 29,
   "metadata": {},
   "outputs": [
    {
     "name": "stdout",
     "output_type": "stream",
     "text": [
      "0          False\n",
      "1          False\n",
      "2          False\n",
      "3          False\n",
      "4          False\n",
      "           ...  \n",
      "1264211    False\n",
      "1264212    False\n",
      "1264213    False\n",
      "1264214    False\n",
      "1264215    False\n",
      "Name: title, Length: 1264216, dtype: bool\n",
      "Number of duplicate rows: 499\n"
     ]
    }
   ],
   "source": [
    "# Identify duplicate titles\n",
    "duplicates = questions_tags_df.title.duplicated()\n",
    "\n",
    "# Print the boolean series indicating duplicates\n",
    "print(duplicates)\n",
    "\n",
    "# Count the number of duplicate rows\n",
    "num_duplicates = duplicates.sum()\n",
    "\n",
    "# Print the number of duplicate rows\n",
    "print(f\"Number of duplicate rows: {num_duplicates}\")"
   ]
  },
  {
   "cell_type": "markdown",
   "metadata": {},
   "source": [
    "Given the relatively low amount of duplicate data in our dataset, we chose a standard deduplication approach. This method efficiently removes exact duplicates by comparing specific fields, such as titles, which meets our current requirements. Although we considered using MinHash for more accurately detecting records with similar content, it proved to be too time-consuming."
   ]
  },
  {
   "cell_type": "code",
   "execution_count": 30,
   "metadata": {},
   "outputs": [
    {
     "name": "stdout",
     "output_type": "stream",
     "text": [
      "Number of duplicate rows: 0\n"
     ]
    }
   ],
   "source": [
    "# Remove duplicate titles, keeping the first occurrence\n",
    "questions_tags_df_deduplicated = questions_tags_df.drop_duplicates(subset='title', keep='first')\n",
    "\n",
    "# Identify duplicates after deduplication\n",
    "duplicates_after = questions_tags_df_deduplicated.title.duplicated()\n",
    "\n",
    "# Count the number of duplicate rows after deduplication\n",
    "num_duplicates_after = duplicates_after.sum()\n",
    "\n",
    "# Print the number of duplicate rows after deduplication\n",
    "print(f\"Number of duplicate rows: {num_duplicates_after}\")"
   ]
  },
  {
   "cell_type": "markdown",
   "metadata": {},
   "source": [
    "### LDA Topic Modeling With Gensim & pyLDAvis\n",
    "\n",
    "Using LDA with Gensim has several benefits: CountVectorizer efficiently preprocesses text data by converting it into numerical format, creating a vocabulary, and generating a token count matrix, essential for LDA topic modeling. Gensim's LDA model is optimized for large datasets, helping to uncover hidden topics and providing various tuning options to enhance performance. Finally, pyLDAvis offers an intuitive, interactive visualization of LDA models, making it easier to explore and understand the topics and their associated terms, allowing for deeper insights into the data."
   ]
  },
  {
   "cell_type": "code",
   "execution_count": 31,
   "metadata": {},
   "outputs": [
    {
     "data": {
      "text/plain": [
       "0    [sqlstatement, execute, multiple, query, one, ...\n",
       "1    [good, branching, merging, tutorial, tortoisesvn]\n",
       "2                                [asp, net, site, map]\n",
       "3                   [function, creating, color, wheel]\n",
       "4    [adding, scripting, functionality, net, applic...\n",
       "5                           [use, nested, class, case]\n",
       "6               [homegrown, consumption, web, service]\n",
       "7       [deploying, sql, server, database, test, live]\n",
       "8             [automatically, update, version, number]\n",
       "9    [visual, studio, setup, project, per, user, re...\n",
       "Name: title_tokenized, dtype: object"
      ]
     },
     "execution_count": 31,
     "metadata": {},
     "output_type": "execute_result"
    }
   ],
   "source": [
    "titles = questions_tags_df_deduplicated['title_tokenized']\n",
    "titles[:10]"
   ]
  },
  {
   "cell_type": "code",
   "execution_count": 32,
   "metadata": {},
   "outputs": [
    {
     "name": "stdout",
     "output_type": "stream",
     "text": [
      "Number of raw tokens: 121518\n"
     ]
    }
   ],
   "source": [
    "from gensim.corpora import Dictionary\n",
    "\n",
    "# Create a dictionary that maps tokens to indices\n",
    "# The dictionary is created using tokens from the titles\n",
    "dictionary = Dictionary(titles)\n",
    "\n",
    "# Number of raw tokens\n",
    "print(f\"Number of raw tokens: {len(dictionary.items())}\")"
   ]
  },
  {
   "cell_type": "code",
   "execution_count": 33,
   "metadata": {},
   "outputs": [
    {
     "name": "stdout",
     "output_type": "stream",
     "text": [
      "Number of tokens after filtering: 16752\n"
     ]
    }
   ],
   "source": [
    "# Filter out tokens that appear less than 10 times and those that appear in more than 80% of the titles\n",
    "dictionary.filter_extremes(no_below=10, no_above=0.8)\n",
    "\n",
    "# The number of tokens after filtering\n",
    "print(f\"Number of tokens after filtering: {len(dictionary.items())}\")"
   ]
  },
  {
   "cell_type": "code",
   "execution_count": 34,
   "metadata": {},
   "outputs": [],
   "source": [
    "# Using the dictionary to convert titles into lists of tuples (index, count)\n",
    "corpora = [dictionary.doc2bow(doc) for doc in titles]"
   ]
  },
  {
   "cell_type": "code",
   "execution_count": 35,
   "metadata": {},
   "outputs": [
    {
     "name": "stdout",
     "output_type": "stream",
     "text": [
      "Original title: What are the useful new ASP NET features in the NET Framework 3 5\n",
      "Token representation: ['useful', 'new', 'asp', 'net', 'feature', 'net', 'framework']\n",
      "Tuple (Index, count) representation: [(10, 1), (12, 2), (333, 1), (334, 1), (335, 1), (336, 1)]\n",
      "\n"
     ]
    }
   ],
   "source": [
    "# Display the lists of tuples for the two randomly selected titles \n",
    "i = 100\n",
    "print('Original title:', questions_tags_df_deduplicated['title'].iloc[i])\n",
    "print('Token representation:', titles[i])\n",
    "print('Tuple (Index, count) representation:', corpora[i])\n",
    "print()"
   ]
  },
  {
   "cell_type": "markdown",
   "metadata": {},
   "source": [
    "### Training LDA Model"
   ]
  },
  {
   "cell_type": "code",
   "execution_count": 36,
   "metadata": {},
   "outputs": [],
   "source": [
    "from gensim.models import ldamodel\n",
    "\n",
    "# Train an LDA model\n",
    "lda_model = ldamodel.LdaModel(corpora, num_topics=10, id2word=dictionary, passes=50)"
   ]
  },
  {
   "cell_type": "markdown",
   "metadata": {},
   "source": [
    "### Visualizing LDA Topics with pyLDAvis"
   ]
  },
  {
   "cell_type": "code",
   "execution_count": 37,
   "metadata": {},
   "outputs": [
    {
     "data": {
      "text/html": [
       "\n",
       "<link rel=\"stylesheet\" type=\"text/css\" href=\"https://cdn.jsdelivr.net/gh/bmabey/pyLDAvis@3.4.0/pyLDAvis/js/ldavis.v1.0.0.css\">\n",
       "\n",
       "\n",
       "<div id=\"ldavis_el3741713948009744161133458\" style=\"background-color:white;\"></div>\n",
       "<script type=\"text/javascript\">\n",
       "\n",
       "var ldavis_el3741713948009744161133458_data = {\"mdsDat\": {\"x\": [-0.1935147455312664, -0.10392097126510082, -0.036463138909956304, -0.06949382512391933, -0.1079547366296589, -0.13364801163311932, -0.03834597180108215, 0.27497879584032653, 0.13373456520088461, 0.2746280398528924], \"y\": [-0.1087977121119127, -0.05988859570582207, 0.05608222179464021, 0.32508014690247933, -0.025673464704191157, 0.03357695300043229, -0.2651108984525833, -0.09599291842875833, 0.16567461888205687, -0.024950351176341076], \"topics\": [1, 2, 3, 4, 5, 6, 7, 8, 9, 10], \"cluster\": [1, 1, 1, 1, 1, 1, 1, 1, 1, 1], \"Freq\": [12.021088766882402, 11.688811836566943, 10.155240704422432, 10.109405825125288, 9.908666058679188, 9.822082770551123, 9.476821319529522, 9.198796086165995, 8.9669638488198, 8.652122783257301]}, \"tinfo\": {\"Term\": [\"android\", \"array\", \"string\", \"image\", \"c\", \"app\", \"file\", \"list\", \"value\", \"code\", \"function\", \"j\", \"class\", \"javascript\", \"column\", \"sql\", \"variable\", \"element\", \"query\", \"window\", \"work\", \"server\", \"table\", \"angular\", \"time\", \"method\", \"api\", \"json\", \"jquery\", \"view\", \"string\", \"class\", \"method\", \"type\", \"specific\", \"convert\", \"excel\", \"laravel\", \"read\", \"exception\", \"dynamic\", \"null\", \"creating\", \"found\", \"record\", \"instance\", \"undefined\", \"non\", \"csv\", \"range\", \"point\", \"extension\", \"reading\", \"static\", \"route\", \"updating\", \"vector\", \"pointer\", \"listview\", \"plot\", \"c\", \"return\", \"number\", \"check\", \"file\", \"object\", \"error\", \"java\", \"parameter\", \"function\", \"value\", \"using\", \"python\", \"javascript\", \"variable\", \"element\", \"time\", \"jquery\", \"html\", \"cs\", \"remove\", \"div\", \"tag\", \"link\", \"attribute\", \"background\", \"child\", \"color\", \"directory\", \"argument\", \"rest\", \"parent\", \"parse\", \"replace\", \"passing\", \"space\", \"position\", \"current\", \"stop\", \"scroll\", \"hide\", \"height\", \"implement\", \"function\", \"text\", \"script\", \"change\", \"using\", \"loop\", \"get\", \"file\", \"php\", \"page\", \"value\", \"working\", \"sql\", \"query\", \"database\", \"mysql\", \"getting\", \"unable\", \"rail\", \"character\", \"index\", \"connection\", \"group\", \"framework\", \"count\", \"regex\", \"match\", \"entity\", \"join\", \"condition\", \"panda\", \"expression\", \"ruby\", \"core\", \"fails\", \"action\", \"db\", \"oracle\", \"redirect\", \"external\", \"called\", \"dataframe\", \"server\", \"r\", \"spring\", \"data\", \"php\", \"search\", \"using\", \"table\", \"error\", \"multiple\", \"output\", \"android\", \"column\", \"google\", \"row\", \"update\", \"node\", \"result\", \"based\", \"map\", \"first\", \"bootstrap\", \"single\", \"insert\", \"folder\", \"failed\", \"order\", \"start\", \"word\", \"document\", \"azure\", \"wrong\", \"mongodb\", \"invalid\", \"selenium\", \"selected\", \"could\", \"grid\", \"width\", \"sdk\", \"top\", \"table\", \"item\", \"two\", \"name\", \"issue\", \"value\", \"api\", \"data\", \"get\", \"multiple\", \"using\", \"user\", \"one\", \"array\", \"image\", \"another\", \"request\", \"load\", \"post\", \"module\", \"pas\", \"filter\", \"header\", \"reference\", \"wordpress\", \"video\", \"difference\", \"chrome\", \"upload\", \"print\", \"empty\", \"best\", \"pdf\", \"frame\", \"created\", \"play\", \"right\", \"syntax\", \"animation\", \"fragment\", \"powershell\", \"sqlite\", \"split\", \"working\", \"one\", \"url\", \"http\", \"content\", \"file\", \"way\", \"using\", \"php\", \"data\", \"page\", \"object\", \"get\", \"list\", \"work\", \"json\", \"field\", \"show\", \"date\", \"select\", \"property\", \"key\", \"cell\", \"statement\", \"option\", \"response\", \"import\", \"thread\", \"ng\", \"facebook\", \"changing\", \"properly\", \"missing\", \"last\", \"duplicate\", \"graph\", \"aws\", \"give\", \"auto\", \"given\", \"report\", \"network\", \"integer\", \"input\", \"value\", \"set\", \"default\", \"python\", \"get\", \"object\", \"format\", \"data\", \"using\", \"number\", \"code\", \"io\", \"access\", \"run\", \"project\", \"test\", \"build\", \"django\", \"library\", \"open\", \"path\", \"template\", \"vba\", \"plugin\", \"program\", \"memory\", \"apache\", \"process\", \"activity\", \"source\", \"location\", \"copy\", \"resource\", \"task\", \"dependency\", \"xamarin\", \"eclipse\", \"calling\", \"execute\", \"matrix\", \"file\", \"error\", \"c\", \"using\", \"use\", \"java\", \"python\", \"app\", \"line\", \"swift\", \"studio\", \"command\", \"component\", \"send\", \"visual\", \"version\", \"package\", \"save\", \"ui\", \"trying\", \"store\", \"email\", \"bar\", \"validation\", \"notification\", \"layout\", \"authentication\", \"native\", \"tab\", \"log\", \"pattern\", \"disable\", \"docker\", \"want\", \"state\", \"ionic\", \"socket\", \"form\", \"error\", \"using\", \"custom\", \"window\", \"service\", \"web\", \"model\", \"angularjs\", \"running\", \"via\", \"client\", \"x\", \"install\", \"device\", \"screen\", \"local\", \"mobile\", \"collection\", \"label\", \"back\", \"push\", \"remote\", \"address\", \"part\", \"site\", \"binding\", \"domain\", \"side\", \"wpf\", \"password\", \"existing\", \"typescript\", \"configuration\", \"application\", \"user\", \"api\", \"ajax\", \"server\", \"call\", \"system\", \"error\", \"using\", \"get\", \"j\", \"angular\", \"view\", \"button\", \"net\", \"inside\", \"event\", \"asp\", \"react\", \"id\", \"adding\", \"controller\", \"mvc\", \"nested\", \"firebase\", \"showing\", \"connect\", \"login\", \"many\", \"chart\", \"spark\", \"git\", \"session\", \"token\", \"case\", \"sort\", \"batch\", \"double\", \"shell\", \"submit\", \"custom\", \"click\", \"size\", \"message\", \"page\", \"control\", \"form\", \"working\", \"add\"], \"Freq\": [43762.0, 36393.0, 33535.0, 30228.0, 42516.0, 27695.0, 72124.0, 27990.0, 58831.0, 25411.0, 39080.0, 24194.0, 26843.0, 26469.0, 24261.0, 24107.0, 25500.0, 23532.0, 21836.0, 20541.0, 21257.0, 29561.0, 28570.0, 19084.0, 21335.0, 21540.0, 24932.0, 19228.0, 20743.0, 18153.0, 33534.764328018304, 26842.920232041244, 21539.12636542151, 20467.36013142918, 12684.84743044008, 11595.731428099123, 10869.244649924, 10712.656036292892, 10314.226310576476, 9131.859600953332, 8565.273707532979, 8309.20991108982, 7911.202130739474, 7421.883810410568, 6472.2246584578925, 5871.5201845989395, 5760.383291386999, 5744.456416578402, 5255.5229260509595, 5102.679077543739, 4720.927133111467, 4504.962211290668, 4440.710089981923, 4368.9453877063315, 4344.921459460847, 4319.279683288599, 3824.765574604702, 3636.1618563228935, 3630.2389935917367, 3574.1733937650943, 33705.44591687621, 13727.529908005448, 12988.809839735472, 8267.20134299583, 31743.34683078121, 18360.836960330867, 18944.343644311008, 12763.455852139266, 7573.605206106005, 12341.382339696984, 12064.781524630738, 11866.484392943736, 8332.955277255665, 26469.07105115706, 25499.68033757669, 23531.85092333127, 21334.360671252063, 20742.692561438213, 18378.20677490382, 11960.69938741092, 10334.868385031654, 9508.162459862619, 8815.415986118085, 8674.40879645866, 8643.332191318, 7538.691916403372, 7488.17248877116, 7428.7864046920395, 7201.803798561373, 6869.257075315572, 6335.9861932513095, 6000.116183347516, 5516.56999689803, 5462.845428715579, 5422.42882291495, 5231.738345762115, 5055.492464928084, 4923.126656339688, 4800.486057907287, 4521.979212391964, 4357.286577310435, 4297.38232187769, 4192.080709458563, 26738.608289758587, 16334.762332131464, 9759.5006391777, 11682.324364080134, 17145.19144658395, 7633.240713452756, 9040.102530913486, 9780.376410603174, 8115.55947201107, 6936.41496991701, 7874.146325529405, 6731.743363491871, 24106.46402597711, 21835.299383776965, 18696.153794315294, 16291.232031710277, 15878.849889125222, 10658.611118426435, 10255.32645616739, 8890.90639746912, 8353.826329080423, 8140.473846958054, 7588.985804176976, 7112.436126763082, 6729.917509604598, 6110.593103402897, 5994.473820344635, 5764.259776950492, 5525.200410934921, 5313.442727279222, 5309.050100459498, 5246.098137392403, 5071.867725106168, 4987.234160037324, 4753.372411209896, 4746.312655580331, 4706.559861433393, 4614.544742617226, 4581.030871362559, 4316.859700434623, 4258.599388899752, 4193.1677650544925, 17775.84550266229, 9818.484356139274, 8702.47462168457, 15934.180682615772, 12176.394549208806, 6622.44617965554, 16394.64969552365, 9275.778926602829, 10367.361708549624, 7389.748872721519, 5364.0838495336575, 43761.392109973756, 24260.201626685088, 18901.831878939636, 18091.060878644115, 13617.941358180402, 13508.806968299592, 13175.525208508598, 12108.043943576533, 11498.149086774776, 8619.304397416892, 8344.980047274837, 7923.832881208959, 7031.483793053652, 6973.621144324397, 6643.280650965884, 5983.285696902009, 5895.801419878876, 5578.487661497465, 5291.518691309159, 5156.356459130728, 5019.1371146719375, 4994.561177687669, 4509.492722028487, 4439.894577942287, 4361.18580194073, 4106.867123358926, 4093.804903934247, 3853.320231511919, 3506.254735195515, 3479.088433538136, 19294.07827669297, 7724.646848810891, 9963.689863253729, 8636.871170325632, 7885.5997031837, 9900.273898478696, 7452.814295432012, 9226.123278309255, 8773.960076583608, 6483.063770320596, 7165.44021113387, 5645.933739550069, 5628.79278001225, 36392.68416307335, 30227.975132362742, 17010.884034889823, 15507.271583284548, 11342.281116828282, 10628.223901448488, 9769.512813045361, 8932.354277718152, 7801.432956161802, 7258.042359632977, 6961.6916955011075, 6897.7392941886055, 6436.529600814754, 6408.709591324833, 6014.9354360723355, 5920.835996185153, 5653.7609423545955, 5606.611713417482, 4936.171640758133, 4801.985856224861, 4183.356477490432, 4177.203343706527, 4118.464054326503, 4019.2481131801655, 3931.723029612573, 3769.6818116758286, 3619.6022832387093, 3502.731063578279, 3382.153858489202, 3341.837258405027, 16901.442176007888, 14093.507057869114, 9760.413375760701, 6984.080897007999, 6952.018390816913, 15708.08781699482, 6787.105259597871, 13682.797051583197, 7802.667640566863, 8426.811878570114, 6722.063733961447, 5801.835477284697, 5677.084047036936, 27989.675589770122, 21257.04972146708, 19227.77852608356, 16617.089901859523, 14098.798050526799, 13756.375439088835, 13689.107789489093, 12827.35634779051, 12336.088371872136, 8094.399618708972, 7984.304562617321, 6564.263934465422, 6511.612164426497, 5796.368108308586, 5655.247906222177, 5393.607509471252, 5312.769111784986, 5005.657834584106, 4800.909108984386, 4643.846661645131, 4583.760859299117, 4504.5721987720335, 4239.500808409094, 4100.051731328165, 4072.2986065953314, 3934.3581707323387, 3771.3483060144617, 3764.263821344623, 3669.359882112715, 3614.6880778742334, 11449.919032576776, 28991.290777390535, 10415.794318584245, 4977.511748078256, 11165.103148643842, 10857.017287939289, 9169.96759439422, 4797.411078839201, 7193.193027358575, 7328.6406618523615, 4746.360524278304, 25410.719852274466, 16690.427475562712, 15809.87512617245, 13534.056087359066, 12518.173267190035, 11500.066683754652, 9563.410967117825, 9305.547444357642, 8589.312720323634, 8557.623785777669, 8303.408220375752, 8282.369325472986, 6587.68800425776, 6583.041509432805, 6562.686375534376, 6386.013004029511, 6118.698179386881, 5639.000410787748, 5273.810434382207, 5198.38235559045, 5054.297895953473, 4963.026581890543, 4879.234750813774, 4823.702269245459, 4472.460401327455, 4403.951860699389, 4371.25391667135, 4293.889747035786, 4098.85770056497, 3848.4034366878013, 14892.46744264761, 12967.574263288065, 8810.677573473122, 10110.840499204061, 7163.143729509983, 6919.438371545875, 5828.7755055369435, 27694.585672888697, 15852.353412873756, 14649.90614671031, 12232.903551241423, 11013.15700197555, 8297.864946372889, 8043.279913855788, 7520.787391791131, 7082.630967602455, 6965.579182081332, 6861.197513003607, 6802.444407206307, 6738.819375558096, 6319.596972478275, 6037.831281476795, 5212.419534690291, 5041.694648530108, 4988.102567276517, 4973.543891947489, 4778.990636488387, 4689.267795854569, 4679.857887523847, 4492.5072853293605, 4377.738691862938, 4335.2283285472295, 4282.003973655729, 4281.368076117383, 4165.1922566457915, 4121.904585572819, 3947.243831480184, 13337.991227020457, 6542.660381651201, 6676.151628309407, 4516.726999187609, 20540.987620530894, 14389.338783408943, 13743.351809052514, 11250.87209449846, 10431.473848673162, 10008.204584719171, 8440.305989125052, 8026.015096986234, 7406.329669511113, 6956.625383789703, 6830.544073792364, 6577.735645178417, 6103.044161345059, 5031.974063446948, 4810.998229451265, 4618.502963567155, 4481.733171205065, 4453.968354884522, 4227.192774800364, 4160.142627480443, 4066.0690614606538, 4064.5909290974187, 4033.647778480061, 3905.044725710822, 3834.7949697126746, 3800.769948089557, 3717.475790557811, 3686.0386662898845, 3580.1852129959766, 3578.310153132992, 14566.507168920956, 16708.438700921422, 17478.55149076468, 6473.760457476199, 11784.622426848056, 7834.936180330304, 4817.850037414993, 9989.06696720558, 9948.927746650941, 5027.711027128059, 24193.86182679914, 19083.49909233916, 18152.687256878, 17880.509522601078, 17036.97349365262, 14847.30715885836, 12171.84640599519, 10457.845758100193, 9850.657287814076, 9788.023373857151, 9277.62193171289, 8861.227037593733, 7619.756162938812, 7436.832740241486, 7249.172828154333, 6702.145421688939, 6671.731670832545, 6648.822516796133, 6161.3476629285, 6026.456696811214, 5950.906822829735, 5721.152781337464, 4920.4757387841655, 4209.7711860283225, 4092.9190345843626, 3901.208754819039, 3272.0283964897176, 3220.6373178916238, 3060.650044183301, 3000.041314065462, 13906.079770856282, 6979.002843476281, 5865.989700299575, 6541.889323244408, 10920.085955244767, 4915.738124604645, 7461.300852789964, 6497.43426027737, 5730.566146263485], \"Total\": [43762.0, 36393.0, 33535.0, 30228.0, 42516.0, 27695.0, 72124.0, 27990.0, 58831.0, 25411.0, 39080.0, 24194.0, 26843.0, 26469.0, 24261.0, 24107.0, 25500.0, 23532.0, 21836.0, 20541.0, 21257.0, 29561.0, 28570.0, 19084.0, 21335.0, 21540.0, 24932.0, 19228.0, 20743.0, 18153.0, 33535.66913539307, 26843.82504271745, 21540.03117166939, 20468.264944265604, 12685.752284638053, 11596.636238686408, 10870.149488285046, 10713.56085693844, 10315.131123145637, 9132.764424842882, 8566.17855702553, 8310.114724598301, 7912.106966808921, 7422.788644660009, 6473.129502986484, 5872.42501251724, 5761.288084527292, 5745.36125477753, 5256.427724570533, 5103.583906454292, 4721.8319681484845, 4505.867062425164, 4441.614893152271, 4369.850207363667, 4345.826297810092, 4320.184534028088, 3825.670377437441, 3637.066632788638, 3631.143831327624, 3575.078210683439, 42516.92932825339, 17620.158295988065, 17735.977179267, 10160.919794237952, 72124.87746229472, 33333.34486945665, 67020.3553331007, 32831.96158330347, 12762.246242755893, 39080.79054556344, 58831.099085154136, 100319.22471704966, 37763.97376337386, 26469.970255168788, 25500.57954750732, 23532.750121917612, 21335.25990458467, 20743.591754263078, 18379.105970229753, 11961.598573802466, 10335.767602850745, 9509.061630581047, 8816.315174022799, 8675.308011216106, 8644.231405847875, 7539.59112298962, 7489.071690289696, 7429.68559073305, 7202.703032409457, 6870.156304490837, 6336.885470331911, 6001.015373965435, 5517.469219542521, 5463.744639366419, 5423.32803596545, 5232.637570469992, 5056.391666731545, 4924.025890472375, 4801.385288446943, 4522.878409536004, 4358.185793132612, 4298.28151563857, 4192.979950163581, 39080.79054556344, 24504.81846035245, 15008.395371437304, 24255.594380075756, 100319.22471704966, 14860.68585927563, 49919.721730829704, 72124.87746229472, 32734.418198882708, 24579.260564678174, 58831.099085154136, 30131.31571544169, 24107.36880991899, 21836.204173630038, 18697.05859767632, 16292.136817108725, 15879.75473063035, 10659.515964440841, 10256.231264955966, 8891.811212394536, 8354.73115098266, 8141.378650782928, 7589.8906129876, 7113.340938734013, 6730.822316969397, 6111.497900815193, 5995.378625707756, 5765.16456075904, 5526.1051821911215, 5314.347525679747, 5309.954899594157, 5247.00293091672, 5072.772532615873, 4988.139038748059, 4754.277252130437, 4747.21750379608, 4707.464663158566, 4615.449537167068, 4581.935719464179, 4317.764561404415, 4259.504239073022, 4194.072556079825, 29561.266981987064, 13935.849041480074, 13422.310176896926, 54722.124191013376, 32734.418198882708, 9968.383758573238, 100319.22471704966, 28570.666669780097, 67020.3553331007, 29812.878044170422, 9859.29542823356, 43762.300905403295, 24261.110392078917, 18902.740664720866, 18091.969645146146, 13618.850150584069, 13509.715796346614, 13176.434010537243, 12108.952750474857, 11499.0578593608, 8620.213220165195, 8345.888840839429, 7924.7416890328905, 7032.392583730048, 6974.529950593347, 6644.189490578549, 5984.194483701034, 5896.710234674877, 5579.396460790631, 5292.4274865618945, 5157.265288175554, 5020.045907868624, 4995.469965226014, 4510.401561191588, 4440.803381980136, 4362.094595085059, 4107.775966187075, 4094.7136781429936, 3854.2290370234646, 3507.1635359375596, 3479.997247034891, 28570.666669780097, 11418.56982559209, 18312.942939375065, 16485.82741706651, 17635.864007074175, 58831.099085154136, 24932.168812657506, 54722.124191013376, 49919.721730829704, 29812.878044170422, 100319.22471704966, 22355.17548801054, 23786.645309776442, 36393.58630577905, 30228.877271566096, 17011.786212858562, 15508.173728966574, 11343.183273692797, 10629.126042846407, 9770.414985154408, 8933.25644505371, 7802.335113088158, 7258.944513930137, 6962.593879562102, 6898.641444724761, 6437.431721258553, 6409.611749616053, 6015.8375922020405, 5921.738120414823, 5654.663103483832, 5607.513875541627, 4937.073772117757, 4802.887989162158, 4184.258627501518, 4178.105527370647, 4119.366217720541, 4020.1502916427708, 3932.625220052678, 3770.583951059555, 3620.504435861103, 3503.6332268780243, 3383.056031917476, 3342.739417494182, 30131.31571544169, 23786.645309776442, 15539.437687170635, 10231.467656195402, 11581.834485712714, 72124.87746229472, 15236.673600910382, 100319.22471704966, 32734.418198882708, 54722.124191013376, 24579.260564678174, 33333.34486945665, 49919.721730829704, 27990.58167478041, 21257.955831627907, 19228.68462053856, 16617.99600225352, 14099.70417317, 13757.281518703432, 13690.01388341759, 12828.262452137496, 12336.99444654974, 8095.3057208844175, 7985.210658741685, 6565.170034666247, 6512.518275999236, 5797.274215384122, 5656.154003843315, 5394.513588380824, 5313.675225740756, 5006.563942682158, 4801.815218918716, 4644.752783494137, 4584.666964733039, 4505.478310830678, 4240.4069098096115, 4100.957869066883, 4073.2047522632915, 3935.264283593633, 3772.2544254211, 3765.169921458737, 3670.266014122529, 3615.594157510402, 14914.170623318927, 58831.099085154136, 21331.725428055703, 6113.832965858507, 37763.97376337386, 49919.721730829704, 33333.34486945665, 6918.162023826044, 54722.124191013376, 100319.22471704966, 17735.977179267, 25411.62497382159, 16691.33261390428, 15810.780257751256, 13534.96119872366, 12519.078371510994, 11500.971781075936, 9564.316067166816, 9306.45257068681, 8590.217837215216, 8558.528917870475, 8304.313334779697, 8283.274443506487, 6588.593136409561, 6583.946624119793, 6563.591482133575, 6386.918109041611, 6119.603300241662, 5639.905526324089, 5274.715568207577, 5199.287476992319, 5055.203024378617, 4963.931712186815, 4880.139877868098, 4824.6073638220805, 4473.365494148672, 4404.856991657644, 4372.158997934587, 4294.794874017882, 4099.762830542175, 3849.3085490993262, 72124.87746229472, 67020.3553331007, 42516.92932825339, 100319.22471704966, 34274.325973396975, 32831.96158330347, 37763.97376337386, 27695.490705855893, 15853.2584431416, 14650.811183079395, 12233.80856305637, 11014.062039441958, 8298.769985547564, 8044.184942611418, 7521.69237938722, 7083.536008734264, 6966.48421746891, 6862.102561779352, 6803.349446193103, 6739.724438357067, 6320.502034029943, 6038.736284546828, 5213.324550140685, 5042.599682197099, 4989.007587189649, 4974.448908793264, 4779.895697552696, 4690.1728350610265, 4680.7628973490555, 4493.412308786913, 4378.643722627212, 4336.133370584497, 4282.908982258096, 4282.273159128741, 4166.097278204525, 4122.809620900209, 3948.148874068059, 20800.09577908912, 67020.3553331007, 100319.22471704966, 18423.610461420612, 20541.885958851435, 14390.237116413242, 13744.250147313824, 11251.77045645212, 10432.372202379427, 10009.102938166972, 8441.2043563823, 8026.913431530255, 7407.228025061167, 6957.523706685243, 6831.4424208206465, 6578.634003894727, 6103.942511587576, 5032.872407597749, 4811.896592794726, 4619.401335542495, 4482.631547479019, 4454.866718448066, 4228.091114930975, 4161.040976834153, 4066.96744751275, 4065.4892762258005, 4034.5461265418107, 3905.943061192922, 3835.693299127801, 3801.6682859988205, 3718.374146276139, 3686.937044931544, 3581.083586922488, 3579.2084987185103, 18093.165460413846, 22355.17548801054, 24932.168812657506, 9427.817932500488, 29561.266981987064, 15783.949213788552, 6626.773141415719, 67020.3553331007, 100319.22471704966, 49919.721730829704, 24194.764588185506, 19084.40185048179, 18153.59000379983, 17881.412267407864, 17037.876232961065, 14848.209937177426, 12172.749146367985, 10458.74847141257, 9851.560057771616, 9788.926148040124, 9278.52470453142, 8862.129771693413, 7620.658891265995, 7437.735513272274, 7250.075614305589, 6703.0481981433195, 6672.634468845902, 6649.725270406724, 6162.2504287044585, 6027.359446985904, 5951.809602071155, 5722.055532613042, 4921.378486272483, 4210.673931114876, 4093.821812666072, 3902.1115244718508, 3272.9311892568144, 3221.540093745607, 3061.552834873481, 3000.9440350508153, 18423.610461420612, 9760.056490198287, 8246.499731066808, 10044.494066541245, 24579.260564678174, 6466.674279508334, 20800.09577908912, 30131.31571544169, 22974.89278854131], \"Category\": [\"Default\", \"Default\", \"Default\", \"Default\", \"Default\", \"Default\", \"Default\", \"Default\", \"Default\", \"Default\", \"Default\", \"Default\", \"Default\", \"Default\", \"Default\", \"Default\", \"Default\", \"Default\", \"Default\", \"Default\", \"Default\", \"Default\", \"Default\", \"Default\", \"Default\", \"Default\", \"Default\", \"Default\", \"Default\", \"Default\", \"Topic1\", \"Topic1\", \"Topic1\", \"Topic1\", \"Topic1\", \"Topic1\", \"Topic1\", \"Topic1\", \"Topic1\", \"Topic1\", \"Topic1\", \"Topic1\", \"Topic1\", \"Topic1\", \"Topic1\", \"Topic1\", \"Topic1\", \"Topic1\", \"Topic1\", \"Topic1\", \"Topic1\", \"Topic1\", \"Topic1\", \"Topic1\", \"Topic1\", \"Topic1\", \"Topic1\", \"Topic1\", \"Topic1\", \"Topic1\", \"Topic1\", \"Topic1\", \"Topic1\", \"Topic1\", \"Topic1\", \"Topic1\", \"Topic1\", \"Topic1\", \"Topic1\", \"Topic1\", \"Topic1\", \"Topic1\", \"Topic1\", \"Topic2\", \"Topic2\", \"Topic2\", \"Topic2\", \"Topic2\", \"Topic2\", \"Topic2\", \"Topic2\", \"Topic2\", \"Topic2\", \"Topic2\", \"Topic2\", \"Topic2\", \"Topic2\", \"Topic2\", \"Topic2\", \"Topic2\", \"Topic2\", \"Topic2\", \"Topic2\", \"Topic2\", \"Topic2\", \"Topic2\", \"Topic2\", \"Topic2\", \"Topic2\", \"Topic2\", \"Topic2\", \"Topic2\", \"Topic2\", \"Topic2\", \"Topic2\", \"Topic2\", \"Topic2\", \"Topic2\", \"Topic2\", \"Topic2\", \"Topic2\", \"Topic2\", \"Topic2\", \"Topic2\", \"Topic2\", \"Topic3\", \"Topic3\", \"Topic3\", \"Topic3\", \"Topic3\", \"Topic3\", \"Topic3\", \"Topic3\", \"Topic3\", \"Topic3\", \"Topic3\", \"Topic3\", \"Topic3\", \"Topic3\", \"Topic3\", \"Topic3\", \"Topic3\", \"Topic3\", \"Topic3\", \"Topic3\", \"Topic3\", \"Topic3\", \"Topic3\", \"Topic3\", \"Topic3\", \"Topic3\", \"Topic3\", \"Topic3\", \"Topic3\", \"Topic3\", \"Topic3\", \"Topic3\", \"Topic3\", \"Topic3\", \"Topic3\", \"Topic3\", \"Topic3\", \"Topic3\", \"Topic3\", \"Topic3\", \"Topic3\", \"Topic4\", \"Topic4\", \"Topic4\", \"Topic4\", \"Topic4\", \"Topic4\", \"Topic4\", \"Topic4\", \"Topic4\", \"Topic4\", \"Topic4\", \"Topic4\", \"Topic4\", \"Topic4\", \"Topic4\", \"Topic4\", \"Topic4\", \"Topic4\", \"Topic4\", \"Topic4\", \"Topic4\", \"Topic4\", \"Topic4\", \"Topic4\", \"Topic4\", \"Topic4\", \"Topic4\", \"Topic4\", \"Topic4\", \"Topic4\", \"Topic4\", \"Topic4\", \"Topic4\", \"Topic4\", \"Topic4\", \"Topic4\", \"Topic4\", \"Topic4\", \"Topic4\", \"Topic4\", \"Topic4\", \"Topic4\", \"Topic4\", \"Topic5\", \"Topic5\", \"Topic5\", \"Topic5\", \"Topic5\", \"Topic5\", \"Topic5\", \"Topic5\", \"Topic5\", \"Topic5\", \"Topic5\", \"Topic5\", \"Topic5\", \"Topic5\", \"Topic5\", \"Topic5\", \"Topic5\", \"Topic5\", \"Topic5\", \"Topic5\", \"Topic5\", \"Topic5\", \"Topic5\", \"Topic5\", \"Topic5\", \"Topic5\", \"Topic5\", \"Topic5\", \"Topic5\", \"Topic5\", \"Topic5\", \"Topic5\", \"Topic5\", \"Topic5\", \"Topic5\", \"Topic5\", \"Topic5\", \"Topic5\", \"Topic5\", \"Topic5\", \"Topic5\", \"Topic5\", \"Topic5\", \"Topic6\", \"Topic6\", \"Topic6\", \"Topic6\", \"Topic6\", \"Topic6\", \"Topic6\", \"Topic6\", \"Topic6\", \"Topic6\", \"Topic6\", \"Topic6\", \"Topic6\", \"Topic6\", \"Topic6\", \"Topic6\", \"Topic6\", \"Topic6\", \"Topic6\", \"Topic6\", \"Topic6\", \"Topic6\", \"Topic6\", \"Topic6\", \"Topic6\", \"Topic6\", \"Topic6\", \"Topic6\", \"Topic6\", \"Topic6\", \"Topic6\", \"Topic6\", \"Topic6\", \"Topic6\", \"Topic6\", \"Topic6\", \"Topic6\", \"Topic6\", \"Topic6\", \"Topic6\", \"Topic6\", \"Topic7\", \"Topic7\", \"Topic7\", \"Topic7\", \"Topic7\", \"Topic7\", \"Topic7\", \"Topic7\", \"Topic7\", \"Topic7\", \"Topic7\", \"Topic7\", \"Topic7\", \"Topic7\", \"Topic7\", \"Topic7\", \"Topic7\", \"Topic7\", \"Topic7\", \"Topic7\", \"Topic7\", \"Topic7\", \"Topic7\", \"Topic7\", \"Topic7\", \"Topic7\", \"Topic7\", \"Topic7\", \"Topic7\", \"Topic7\", \"Topic7\", \"Topic7\", \"Topic7\", \"Topic7\", \"Topic7\", \"Topic7\", \"Topic7\", \"Topic8\", \"Topic8\", \"Topic8\", \"Topic8\", \"Topic8\", \"Topic8\", \"Topic8\", \"Topic8\", \"Topic8\", \"Topic8\", \"Topic8\", \"Topic8\", \"Topic8\", \"Topic8\", \"Topic8\", \"Topic8\", \"Topic8\", \"Topic8\", \"Topic8\", \"Topic8\", \"Topic8\", \"Topic8\", \"Topic8\", \"Topic8\", \"Topic8\", \"Topic8\", \"Topic8\", \"Topic8\", \"Topic8\", \"Topic8\", \"Topic8\", \"Topic8\", \"Topic8\", \"Topic8\", \"Topic9\", \"Topic9\", \"Topic9\", \"Topic9\", \"Topic9\", \"Topic9\", \"Topic9\", \"Topic9\", \"Topic9\", \"Topic9\", \"Topic9\", \"Topic9\", \"Topic9\", \"Topic9\", \"Topic9\", \"Topic9\", \"Topic9\", \"Topic9\", \"Topic9\", \"Topic9\", \"Topic9\", \"Topic9\", \"Topic9\", \"Topic9\", \"Topic9\", \"Topic9\", \"Topic9\", \"Topic9\", \"Topic9\", \"Topic9\", \"Topic9\", \"Topic9\", \"Topic9\", \"Topic9\", \"Topic9\", \"Topic9\", \"Topic9\", \"Topic9\", \"Topic9\", \"Topic9\", \"Topic10\", \"Topic10\", \"Topic10\", \"Topic10\", \"Topic10\", \"Topic10\", \"Topic10\", \"Topic10\", \"Topic10\", \"Topic10\", \"Topic10\", \"Topic10\", \"Topic10\", \"Topic10\", \"Topic10\", \"Topic10\", \"Topic10\", \"Topic10\", \"Topic10\", \"Topic10\", \"Topic10\", \"Topic10\", \"Topic10\", \"Topic10\", \"Topic10\", \"Topic10\", \"Topic10\", \"Topic10\", \"Topic10\", \"Topic10\", \"Topic10\", \"Topic10\", \"Topic10\", \"Topic10\", \"Topic10\", \"Topic10\", \"Topic10\", \"Topic10\", \"Topic10\"], \"logprob\": [30.0, 29.0, 28.0, 27.0, 26.0, 25.0, 24.0, 23.0, 22.0, 21.0, 20.0, 19.0, 18.0, 17.0, 16.0, 15.0, 14.0, 13.0, 12.0, 11.0, 10.0, 9.0, 8.0, 7.0, 6.0, 5.0, 4.0, 3.0, 2.0, 1.0, -3.2196, -3.4422, -3.6623, -3.7134, -4.1918, -4.2816, -4.3463, -4.3608, -4.3987, -4.5204, -4.5845, -4.6148, -4.6639, -4.7278, -4.8647, -4.9621, -4.9812, -4.984, -5.0729, -5.1024, -5.1802, -5.227, -5.2414, -5.2577, -5.2632, -5.2691, -5.3907, -5.4413, -5.4429, -5.4585, -3.2146, -4.1128, -4.1681, -4.6199, -3.2745, -3.822, -3.7907, -4.1856, -4.7075, -4.2193, -4.2419, -4.2585, -4.612, -3.4282, -3.4655, -3.5458, -3.6439, -3.672, -3.793, -4.2226, -4.3687, -4.452, -4.5277, -4.5438, -4.5474, -4.6841, -4.6909, -4.6988, -4.7298, -4.7771, -4.8579, -4.9124, -4.9964, -5.0062, -5.0136, -5.0494, -5.0837, -5.1102, -5.1355, -5.1952, -5.2323, -5.2462, -5.271, -3.4181, -3.9109, -4.4259, -4.2461, -3.8625, -4.6717, -4.5025, -4.4238, -4.6104, -4.7674, -4.6406, -4.7973, -3.3811, -3.48, -3.6352, -3.7729, -3.7986, -4.1972, -4.2357, -4.3785, -4.4408, -4.4667, -4.5368, -4.6017, -4.657, -4.7535, -4.7727, -4.8119, -4.8542, -4.8933, -4.8941, -4.9061, -4.9398, -4.9567, -5.0047, -5.0062, -5.0146, -5.0343, -5.0416, -5.101, -5.1146, -5.1301, -3.6857, -4.2793, -4.3999, -3.7951, -4.064, -4.6731, -3.7666, -4.3361, -4.2249, -4.5634, -4.8838, -2.7803, -3.3702, -3.6198, -3.6636, -3.9476, -3.9557, -3.9807, -4.0651, -4.1168, -4.405, -4.4374, -4.4891, -4.6086, -4.6169, -4.6654, -4.77, -4.7848, -4.8401, -4.8929, -4.9188, -4.9458, -4.9507, -5.0528, -5.0684, -5.0863, -5.1464, -5.1495, -5.2101, -5.3045, -5.3122, -3.5992, -4.5146, -4.2601, -4.403, -4.494, -4.2665, -4.5504, -4.337, -4.3872, -4.6898, -4.5897, -4.8281, -4.8311, -2.9446, -3.1302, -3.7051, -3.7976, -4.1104, -4.1754, -4.2597, -4.3493, -4.4847, -4.5568, -4.5985, -4.6078, -4.677, -4.6813, -4.7447, -4.7605, -4.8066, -4.815, -4.9424, -4.9699, -5.1078, -5.1093, -5.1235, -5.1479, -5.1699, -5.212, -5.2526, -5.2854, -5.3204, -5.3324, -3.7116, -3.8932, -4.2606, -4.5953, -4.5999, -3.7848, -4.6239, -3.9228, -4.4845, -4.4075, -4.6336, -4.7808, -4.8025, -3.1983, -3.4735, -3.5738, -3.7198, -3.8841, -3.9087, -3.9136, -3.9786, -4.0177, -4.439, -4.4527, -4.6485, -4.6566, -4.773, -4.7976, -4.845, -4.8601, -4.9196, -4.9614, -4.9946, -5.0077, -5.0251, -5.0857, -5.1192, -5.126, -5.1604, -5.2027, -5.2046, -5.2302, -5.2452, -4.0922, -3.1632, -4.1869, -4.9253, -4.1174, -4.1454, -4.3142, -4.9621, -4.557, -4.5384, -4.9728, -3.2592, -3.6796, -3.7338, -3.8892, -3.9672, -4.052, -4.2365, -4.2638, -4.3439, -4.3476, -4.3777, -4.3803, -4.6092, -4.6099, -4.613, -4.6403, -4.683, -4.7647, -4.8316, -4.8461, -4.8742, -4.8924, -4.9094, -4.9209, -4.9965, -5.0119, -5.0193, -5.0372, -5.0837, -5.1467, -3.7935, -3.9319, -4.3184, -4.1808, -4.5254, -4.5601, -4.7316, -3.1434, -3.7013, -3.7802, -3.9605, -4.0655, -4.3486, -4.3798, -4.447, -4.507, -4.5236, -4.5387, -4.5473, -4.5567, -4.621, -4.6666, -4.8136, -4.8469, -4.8576, -4.8605, -4.9004, -4.9193, -4.9214, -4.9622, -4.9881, -4.9978, -5.0102, -5.0103, -5.0379, -5.0483, -5.0916, -3.874, -4.5863, -4.5661, -4.9568, -3.4167, -3.7726, -3.8185, -4.0187, -4.0943, -4.1357, -4.3061, -4.3564, -4.4368, -4.4994, -4.5177, -4.5554, -4.6303, -4.8233, -4.8682, -4.909, -4.9391, -4.9453, -4.9976, -5.0135, -5.0364, -5.0368, -5.0444, -5.0768, -5.095, -5.1039, -5.1261, -5.1345, -5.1637, -5.1642, -3.7604, -3.6232, -3.5781, -4.5713, -3.9723, -4.3805, -4.8668, -4.1376, -4.1416, -4.8241, -3.2173, -3.4545, -3.5045, -3.5196, -3.568, -3.7055, -3.9042, -4.056, -4.1158, -4.1222, -4.1757, -4.2217, -4.3726, -4.3969, -4.4225, -4.5009, -4.5055, -4.5089, -4.5851, -4.6072, -4.6198, -4.6592, -4.8099, -4.9659, -4.9941, -5.0421, -5.2179, -5.2338, -5.2847, -5.3047, -3.771, -4.4604, -4.6342, -4.5251, -4.0127, -4.8109, -4.3936, -4.5319, -4.6575], \"loglift\": [30.0, 29.0, 28.0, 27.0, 26.0, 25.0, 24.0, 23.0, 22.0, 21.0, 20.0, 19.0, 18.0, 17.0, 16.0, 15.0, 14.0, 13.0, 12.0, 11.0, 10.0, 9.0, 8.0, 7.0, 6.0, 5.0, 4.0, 3.0, 2.0, 1.0, 2.1185, 2.1185, 2.1185, 2.1185, 2.1184, 2.1184, 2.1184, 2.1184, 2.1184, 2.1184, 2.1184, 2.1184, 2.1184, 2.1184, 2.1184, 2.1184, 2.1184, 2.1184, 2.1183, 2.1183, 2.1183, 2.1183, 2.1183, 2.1183, 2.1183, 2.1183, 2.1183, 2.1183, 2.1183, 2.1183, 1.8863, 1.8689, 1.807, 1.9123, 1.2978, 1.5222, 0.855, 1.1737, 1.5967, 0.9658, 0.5341, -0.0161, 0.6074, 2.1465, 2.1465, 2.1465, 2.1465, 2.1465, 2.1465, 2.1465, 2.1465, 2.1464, 2.1464, 2.1464, 2.1464, 2.1464, 2.1464, 2.1464, 2.1464, 2.1464, 2.1464, 2.1464, 2.1464, 2.1464, 2.1464, 2.1464, 2.1464, 2.1464, 2.1464, 2.1463, 2.1463, 2.1463, 2.1463, 1.767, 1.741, 1.7162, 1.416, 0.3799, 1.4803, 0.4378, 0.1485, 0.7519, 0.8814, 0.1355, 0.6478, 2.2871, 2.2871, 2.2871, 2.2871, 2.2871, 2.2871, 2.2871, 2.2871, 2.2871, 2.2871, 2.2871, 2.2871, 2.287, 2.287, 2.287, 2.287, 2.287, 2.287, 2.287, 2.287, 2.287, 2.287, 2.287, 2.287, 2.287, 2.287, 2.287, 2.287, 2.287, 2.287, 1.7786, 1.937, 1.8539, 1.0534, 1.2983, 1.8782, 0.4758, 1.1622, 0.4208, 0.8923, 1.6785, 2.2917, 2.2917, 2.2917, 2.2917, 2.2916, 2.2916, 2.2916, 2.2916, 2.2916, 2.2916, 2.2916, 2.2916, 2.2916, 2.2916, 2.2916, 2.2916, 2.2915, 2.2915, 2.2915, 2.2915, 2.2915, 2.2915, 2.2915, 2.2915, 2.2915, 2.2915, 2.2915, 2.2915, 2.2914, 2.2914, 1.8991, 1.9009, 1.683, 1.6452, 1.4868, 0.5096, 1.0841, 0.5115, 0.5531, 0.766, -0.3474, 0.9156, 0.8505, 2.3117, 2.3117, 2.3117, 2.3117, 2.3117, 2.3117, 2.3117, 2.3117, 2.3116, 2.3116, 2.3116, 2.3116, 2.3116, 2.3116, 2.3116, 2.3116, 2.3116, 2.3116, 2.3116, 2.3116, 2.3115, 2.3115, 2.3115, 2.3115, 2.3115, 2.3115, 2.3115, 2.3115, 2.3115, 2.3115, 1.7336, 1.7884, 1.8467, 1.9299, 1.8014, 0.7875, 1.5031, 0.3195, 0.8778, 0.4409, 1.0153, 0.5634, 0.1378, 2.3205, 2.3205, 2.3205, 2.3205, 2.3205, 2.3205, 2.3205, 2.3205, 2.3205, 2.3204, 2.3204, 2.3204, 2.3204, 2.3204, 2.3204, 2.3204, 2.3204, 2.3204, 2.3203, 2.3203, 2.3203, 2.3203, 2.3203, 2.3203, 2.3203, 2.3203, 2.3203, 2.3203, 2.3203, 2.3203, 2.0562, 1.6129, 1.6037, 2.1149, 1.102, 0.7949, 1.0299, 1.9545, 0.2914, -0.296, 1.0023, 2.3563, 2.3563, 2.3563, 2.3563, 2.3562, 2.3562, 2.3562, 2.3562, 2.3562, 2.3562, 2.3562, 2.3562, 2.3562, 2.3562, 2.3562, 2.3562, 2.3562, 2.3562, 2.3561, 2.3561, 2.3561, 2.3561, 2.3561, 2.3561, 2.3561, 2.3561, 2.3561, 2.3561, 2.3561, 2.3561, 0.7788, 0.7138, 0.7824, 0.0616, 0.7909, 0.7993, 0.4878, 2.3861, 2.386, 2.386, 2.386, 2.386, 2.386, 2.386, 2.386, 2.386, 2.386, 2.386, 2.386, 2.386, 2.386, 2.3859, 2.3859, 2.3859, 2.3859, 2.3859, 2.3859, 2.3859, 2.3859, 2.3859, 2.3859, 2.3859, 2.3859, 2.3859, 2.3859, 2.3859, 2.3859, 1.9418, 0.0594, -0.3237, 0.9803, 2.4116, 2.4116, 2.4116, 2.4115, 2.4115, 2.4115, 2.4115, 2.4115, 2.4115, 2.4115, 2.4115, 2.4115, 2.4115, 2.4114, 2.4114, 2.4114, 2.4114, 2.4114, 2.4114, 2.4114, 2.4114, 2.4114, 2.4114, 2.4114, 2.4114, 2.4114, 2.4114, 2.4114, 2.4114, 2.4114, 2.1948, 2.1205, 2.0564, 2.0357, 1.492, 1.7112, 2.0928, 0.5081, 0.1007, 0.1162, 2.4473, 2.4473, 2.4473, 2.4473, 2.4473, 2.4473, 2.4473, 2.4473, 2.4473, 2.4473, 2.4473, 2.4473, 2.4472, 2.4472, 2.4472, 2.4472, 2.4472, 2.4472, 2.4472, 2.4472, 2.4472, 2.4472, 2.4472, 2.4472, 2.4471, 2.4471, 2.4471, 2.4471, 2.4471, 2.4471, 2.1661, 2.112, 2.1067, 2.0186, 1.6361, 2.1731, 1.4221, 0.9132, 1.0588]}, \"token.table\": {\"Topic\": [7, 3, 7, 2, 4, 5, 7, 8, 10, 10, 9, 9, 10, 4, 10, 9, 5, 5, 7, 4, 9, 8, 8, 9, 2, 5, 10, 2, 8, 6, 6, 4, 9, 2, 8, 4, 10, 5, 9, 4, 7, 10, 1, 7, 1, 9, 10, 3, 7, 10, 6, 2, 4, 6, 8, 10, 6, 3, 10, 1, 3, 2, 5, 1, 2, 10, 9, 7, 9, 2, 4, 8, 8, 3, 9, 10, 3, 2, 5, 9, 10, 10, 1, 7, 3, 4, 3, 5, 1, 2, 1, 2, 8, 10, 1, 3, 4, 5, 6, 9, 10, 3, 3, 6, 3, 6, 10, 7, 9, 5, 2, 8, 2, 7, 8, 4, 9, 10, 6, 1, 7, 2, 8, 5, 3, 1, 3, 6, 7, 8, 9, 10, 10, 1, 1, 7, 9, 3, 1, 3, 6, 4, 3, 6, 1, 2, 5, 7, 5, 10, 4, 4, 8, 10, 1, 6, 1, 5, 5, 3, 1, 2, 1, 2, 3, 4, 5, 6, 9, 10, 3, 10, 6, 6, 4, 6, 4, 3, 5, 2, 2, 2, 5, 9, 10, 5, 2, 6, 3, 1, 6, 4, 10, 9, 1, 6, 4, 7, 8, 4, 5, 8, 9, 4, 6, 10, 1, 3, 5, 6, 7, 8, 2, 3, 2, 6, 6, 9, 1, 6, 8, 7, 8, 2, 6, 1, 5, 9, 7, 8, 10, 1, 2, 5, 6, 10, 4, 3, 7, 7, 8, 10, 1, 6, 9, 9, 5, 4, 2, 3, 4, 5, 6, 7, 8, 9, 10, 3, 1, 2, 4, 8, 10, 10, 6, 6, 4, 1, 8, 1, 1, 6, 1, 5, 6, 3, 4, 5, 7, 6, 3, 4, 2, 3, 7, 8, 2, 5, 10, 3, 1, 2, 5, 2, 2, 9, 5, 2, 9, 7, 8, 5, 1, 2, 3, 5, 5, 1, 7, 1, 1, 2, 5, 5, 5, 7, 7, 7, 6, 6, 9, 1, 2, 3, 5, 6, 7, 3, 1, 3, 3, 1, 10, 1, 1, 1, 3, 5, 3, 9, 2, 2, 6, 5, 7, 6, 2, 4, 1, 4, 5, 1, 4, 3, 7, 9, 8, 9, 2, 3, 5, 2, 4, 3, 4, 6, 4, 4, 8, 3, 9, 9, 10, 2, 4, 6, 10, 10, 6, 10, 9, 4, 9, 8, 10, 8, 10, 7, 2, 10, 1, 5, 3, 10, 3, 5, 4, 8, 6, 1, 2, 8, 1, 8, 10, 8, 5, 7, 9, 8, 3, 4, 2, 7, 7, 7, 2, 6, 8, 6, 2, 10, 4, 8, 1, 4, 5, 1, 9, 8, 3, 1, 4, 1, 5, 2, 5, 10, 1, 2, 3, 5, 6, 7, 8, 9, 10, 4, 9, 1, 2, 3, 4, 5, 6, 7, 8, 9, 8, 1, 2, 4, 6, 2, 7, 1, 8, 9, 5, 10, 8, 8, 2, 5, 6, 7, 9, 4, 9, 4, 5, 6, 2, 5, 10, 9, 4, 9, 7], \"Freq\": [0.9999506502690862, 0.9997435331759907, 0.9998643399443393, 0.2008714487800232, 0.17680169554592723, 0.15081680823895566, 0.092971054083235, 0.12905392104718716, 0.24944621299205047, 0.9999434495732749, 0.9997498277858957, 0.6866912414252506, 0.3132220012247089, 0.9999702733773961, 0.9999265446990284, 0.9998684668881815, 0.999845129808238, 0.9999537842264931, 0.9999014151388477, 0.29893107398728497, 0.7010621551353488, 0.9999822821028482, 0.19488021638416772, 0.8051106387033952, 0.9998316916763479, 0.9999838898597648, 0.9999284358530454, 0.9998575459413266, 0.9998126114858208, 0.999678729685601, 0.9997664279669615, 0.9997546590867732, 0.9998591123378467, 0.9999215974739243, 0.9997459298518737, 0.9999213185075134, 0.9997154876766517, 0.9997825083911404, 0.9998646374276854, 0.9998934995593185, 0.9998623981937053, 0.9999769443597799, 0.7927430445359637, 0.2072350976236872, 0.356184622989583, 0.49639034527274684, 0.14736489382315368, 0.9998816202438779, 0.9998149215407957, 0.9997992553892967, 0.9998387064146264, 0.4816208507178835, 0.10030675653112571, 0.11663288706393532, 0.15369650158160159, 0.14771849924004252, 0.9998873593369396, 0.9999087685989774, 0.9997744539714513, 0.8136074457243571, 0.18630203154181782, 0.9998568994484209, 0.9998607688141172, 0.9999692650836408, 0.2848344169720601, 0.7150573367079163, 0.9998862038891977, 0.9999754059875261, 0.999813671641226, 0.99990772277983, 0.9999542316051915, 0.9999035742273691, 0.9999072169069748, 0.9997464362890767, 0.999662355875903, 0.9999049147905726, 0.9998306612624146, 0.39967761633187804, 0.6002503324128788, 0.23969043947545904, 0.7602052906202301, 0.9998725169093076, 0.9999451359279267, 0.9998123035849732, 0.9997716505616201, 0.9998110982211634, 0.9998778281566988, 0.9997353998448807, 0.9998600920319246, 0.9999499587117245, 0.9999186282789481, 0.99979165615795, 0.24517452805782466, 0.7547923372087912, 0.10019713381119869, 0.291180217061397, 0.16859725634545306, 0.15399621496023552, 0.1314459207557819, 0.07594734417642564, 0.07863364340499507, 0.999943381592843, 0.9997442685920467, 0.999906847969805, 0.9999012922683834, 0.8142191695125885, 0.1858081511784453, 0.9996947501494214, 0.9999352375686724, 0.9999045574615202, 0.9999023932534364, 0.9997386218347928, 0.9998883559048947, 0.9999513702258328, 0.9997877652170846, 0.9999192267512441, 0.9997585573629345, 0.9998323492087975, 0.9998938379462334, 0.9998624174107876, 0.999734914047011, 0.9999681243410258, 0.999878073074873, 0.9999083594703405, 0.9997980004305572, 0.2826603933364069, 0.1546843484859866, 0.04095770585454165, 0.19349345337766707, 0.09762705625000583, 0.14904427095847597, 0.08152746986856668, 0.9999384570930545, 0.9998942527619988, 0.9999162986356241, 0.999813933006931, 0.9997458473198418, 0.99980885642148, 0.9998075703492466, 0.9998229265645354, 0.9998729267950955, 0.9998209728093643, 0.9997313467299652, 0.9999400648397445, 0.44011166627762427, 0.13559815065353512, 0.21778893154046317, 0.20647522081108846, 0.9998288828832899, 0.9998516409534451, 0.9998592586825629, 0.9999240162997218, 0.641247047208746, 0.35870027134686266, 0.30643977297709313, 0.6933922598920357, 0.9998937535880702, 0.9998606724919029, 0.9996991994010013, 0.9998114896016425, 0.31578173900069645, 0.6841980325046287, 0.10603023848049856, 0.1810907530443429, 0.06486414362362636, 0.17576219770033902, 0.11372258905229365, 0.21748919311973794, 0.10072171529944204, 0.04032474401308211, 0.9999524721481439, 0.9998155326163779, 0.999704224968651, 0.9996674600173714, 0.9999608170722963, 0.999904039914502, 0.9998257074366876, 0.9998826579942962, 0.9998698827455804, 0.9997018539539796, 0.9997279158831456, 0.9999398245904048, 0.6826000173856797, 0.3173542749787087, 0.9999053881880282, 0.9999709790225348, 0.9997662878966205, 0.9997802043966214, 0.9999124865935903, 0.2321952784008958, 0.7677262309241285, 0.9998019758263682, 0.9999185129263025, 0.9999247280056351, 0.9999276257225364, 0.9998356680853774, 0.9996892602193899, 0.999920161323538, 0.99980362399076, 0.4471569976291909, 0.161148895163855, 0.1795205496441819, 0.21212456608303362, 0.6765295582539763, 0.323420538334231, 0.9999683986102564, 0.3887370533014561, 0.11391338865058731, 0.09926303037761071, 0.10773038921313564, 0.2107397690035865, 0.0795870814288729, 0.9999633450601026, 0.9998000070294204, 0.9999714729122089, 0.9999643958725171, 0.9999193931265797, 0.9999131195769012, 0.9999476498107465, 0.9998545227519972, 0.9999097570803329, 0.9998582297634013, 0.999920619275456, 0.9998492259624194, 0.9999792189105904, 0.9996849942109823, 0.999895684159883, 0.9998455897011176, 0.9997620225393886, 0.9999082414969784, 0.9998909322750593, 0.20120201909346763, 0.5136371276723875, 0.13222808278216183, 0.1528866178529627, 0.9997970824589286, 0.999908004692755, 0.9997700519360287, 0.9996600560639306, 0.9998562516340531, 0.3486487200649908, 0.6513020921373986, 0.9999521276612289, 0.9998379281892437, 0.9998266581134797, 0.9999315257580929, 0.9999575263532778, 0.9999059217192204, 0.12719335564925385, 0.24787945628902583, 0.21745636199211832, 0.14523924840750768, 0.09475770825663031, 0.06617945429746251, 0.05547938033857222, 0.04581912547913522, 0.9999135388061063, 0.9999302229583825, 0.29534459368169164, 0.18070066637456547, 0.5239045503447876, 0.999749937773666, 0.9999011105905875, 0.999948571468117, 0.9996550620261153, 0.9999047943114037, 0.999947016180251, 0.9997630688972955, 0.9997980385533516, 0.9998658593009551, 0.7323532201644846, 0.2675916839557044, 0.5508298093667818, 0.17405993976069212, 0.27509990479240726, 0.17085217133706843, 0.23664539184457634, 0.5925173481359849, 0.9999381999084713, 0.9998217815136441, 0.9999026016505114, 0.9998003935693789, 0.23034100322185838, 0.5440551040431741, 0.22547250117225504, 0.9999304932798533, 0.2821891237024207, 0.27348259652936446, 0.44427699406436477, 0.9998201680405553, 0.5934691946802981, 0.14511552000896646, 0.2613959906856977, 0.9998307996393676, 0.9999149574698379, 0.9997621206647863, 0.9998593519550862, 0.9997551252742517, 0.9996304443226847, 0.9998418490817059, 0.9998529858403675, 0.999815113497512, 0.14171628076036305, 0.2479347563378113, 0.3719632322781161, 0.238372955113842, 0.999668342738098, 0.9996984092039674, 0.99985622238851, 0.9998238039485317, 0.9997067326787411, 0.9997247707805743, 0.9998940606366067, 0.9998192656488223, 0.9998827333350021, 0.9998394429977838, 0.9999098843772979, 0.9999138617493243, 0.9998302269284532, 0.9999015882203683, 0.9998054445839025, 0.22066004102783074, 0.12027335969619671, 0.08643158213306606, 0.12263010320411426, 0.29565214905504983, 0.1543534596365325, 0.9999448542603622, 0.29542512894232303, 0.7045139460664872, 0.9998799495717132, 0.9998855889380884, 0.9999431503469165, 0.9998903433090541, 0.9998615609036211, 0.9998255089773868, 0.9997957807526187, 0.9999147042650519, 0.9999185304775894, 0.9997419367508137, 0.9999257333484808, 0.9998637126338128, 0.9996892779122479, 0.9999243154618276, 0.9997664251647238, 0.9999204184959993, 0.9998602672659848, 0.9999670616088621, 0.7791076430411938, 0.22088337315824055, 0.9997138684976127, 0.9998098640503629, 0.9999464046665364, 0.999847709982873, 0.9999289840059719, 0.999889806491772, 0.9998393259544832, 0.999903626817611, 0.6503026978203411, 0.16257567445508528, 0.18709528437290143, 0.9998057852861681, 0.9996682401816633, 0.6643002677645506, 0.3355609174981006, 0.9999259399277295, 0.9997490666327382, 0.9998190908466257, 0.9998526957522892, 0.601327406258726, 0.39866356226142474, 0.9999140308527765, 0.9997198983422372, 0.22515759525401755, 0.17912287559142223, 0.48828680244968703, 0.10739871970163527, 0.9998194266428514, 0.9999500575926026, 0.9998436236601118, 0.9998192506350916, 0.9999064084279344, 0.9998796513303672, 0.2886072973523412, 0.7113321034742998, 0.9997090094358891, 0.9997151479487759, 0.9997523743401348, 0.9998781550486909, 0.9998639737953189, 0.9999406984606689, 0.9997787989424745, 0.6483235661606351, 0.3515788219618521, 0.999943220268882, 0.9996878467552671, 0.9998795540824271, 0.9997366172388088, 0.9998483873759348, 0.9998054378701049, 0.9997114815071649, 0.9999205705453079, 0.9999800470540674, 0.9999339074947755, 0.9996854206410419, 0.9999446322071005, 0.9998410171278235, 0.2728326383621676, 0.7270506922726346, 0.9998370143145923, 0.32466865779549536, 0.6753080081399621, 0.9998508249765533, 0.9998741112434071, 0.9998461425472283, 0.999915504437848, 0.6666035917152049, 0.18114804674770704, 0.15221496156092526, 0.9997959737584, 0.999940947305526, 0.9998399469714585, 0.999713434533392, 0.9998925121696454, 0.20482781016779622, 0.5440960545219732, 0.2510792511734276, 0.9999381997316799, 0.9996974136748874, 0.9998016497309485, 0.9999515958846009, 0.9997764242113233, 0.9999375754505947, 0.9997258140204989, 0.9998753540937113, 0.20245262816667675, 0.6280793550244008, 0.16937549819920317, 0.13931710878008968, 0.12624610045894202, 0.11623860971306332, 0.0426558351908882, 0.06450892722780698, 0.2089902513490644, 0.09701138988351796, 0.09835350234506436, 0.1066687643350802, 0.252558965731584, 0.747388451902817, 0.11828241330082095, 0.1709044308143077, 0.16342829648297316, 0.07142200331201602, 0.13639459474086743, 0.07305678468580118, 0.10078825896549812, 0.0665475637279859, 0.09917341394992986, 0.9998810767788654, 0.20507860957240842, 0.1338407767735718, 0.16827834519410223, 0.49278358641638564, 0.9999772731632925, 0.9999099752561311, 0.9998247686362645, 0.9999243303438278, 0.9998573241054886, 0.9999329357922155, 0.9999674993321043, 0.9999079489890975, 0.9997026908183035, 0.18199510422237533, 0.4454384321519154, 0.24572292470557996, 0.12686496085894394, 0.9999090421594177, 0.999681119878539, 0.9999568706177607, 0.9997497111380336, 0.9999070186891288, 0.9999550365220684, 0.22342203916936776, 0.5609114503864356, 0.21562284439741272, 0.9998242124381862, 0.9997916537243245, 0.9998342126019326, 0.9998054439317173], \"Term\": [\"access\", \"action\", \"activity\", \"add\", \"add\", \"add\", \"add\", \"add\", \"add\", \"adding\", \"address\", \"ajax\", \"ajax\", \"android\", \"angular\", \"angularjs\", \"animation\", \"another\", \"apache\", \"api\", \"api\", \"app\", \"application\", \"application\", \"argument\", \"array\", \"asp\", \"attribute\", \"authentication\", \"auto\", \"aws\", \"azure\", \"back\", \"background\", \"bar\", \"based\", \"batch\", \"best\", \"binding\", \"bootstrap\", \"build\", \"button\", \"c\", \"c\", \"call\", \"call\", \"call\", \"called\", \"calling\", \"case\", \"cell\", \"change\", \"change\", \"change\", \"change\", \"change\", \"changing\", \"character\", \"chart\", \"check\", \"check\", \"child\", \"chrome\", \"class\", \"click\", \"click\", \"client\", \"code\", \"collection\", \"color\", \"column\", \"command\", \"component\", \"condition\", \"configuration\", \"connect\", \"connection\", \"content\", \"content\", \"control\", \"control\", \"controller\", \"convert\", \"copy\", \"core\", \"could\", \"count\", \"created\", \"creating\", \"cs\", \"csv\", \"current\", \"custom\", \"custom\", \"data\", \"data\", \"data\", \"data\", \"data\", \"data\", \"data\", \"database\", \"dataframe\", \"date\", \"db\", \"default\", \"default\", \"dependency\", \"device\", \"difference\", \"directory\", \"disable\", \"div\", \"django\", \"docker\", \"document\", \"domain\", \"double\", \"duplicate\", \"dynamic\", \"eclipse\", \"element\", \"email\", \"empty\", \"entity\", \"error\", \"error\", \"error\", \"error\", \"error\", \"error\", \"error\", \"event\", \"excel\", \"exception\", \"execute\", \"existing\", \"expression\", \"extension\", \"external\", \"facebook\", \"failed\", \"fails\", \"field\", \"file\", \"file\", \"file\", \"file\", \"filter\", \"firebase\", \"first\", \"folder\", \"form\", \"form\", \"format\", \"format\", \"found\", \"fragment\", \"frame\", \"framework\", \"function\", \"function\", \"get\", \"get\", \"get\", \"get\", \"get\", \"get\", \"get\", \"get\", \"getting\", \"git\", \"give\", \"given\", \"google\", \"graph\", \"grid\", \"group\", \"header\", \"height\", \"hide\", \"html\", \"http\", \"http\", \"id\", \"image\", \"implement\", \"import\", \"index\", \"input\", \"input\", \"insert\", \"inside\", \"install\", \"instance\", \"integer\", \"invalid\", \"io\", \"ionic\", \"issue\", \"issue\", \"issue\", \"issue\", \"item\", \"item\", \"j\", \"java\", \"java\", \"java\", \"java\", \"java\", \"java\", \"javascript\", \"join\", \"jquery\", \"json\", \"key\", \"label\", \"laravel\", \"last\", \"layout\", \"library\", \"line\", \"link\", \"list\", \"listview\", \"load\", \"local\", \"location\", \"log\", \"login\", \"loop\", \"loop\", \"loop\", \"loop\", \"many\", \"map\", \"match\", \"matrix\", \"memory\", \"message\", \"message\", \"method\", \"missing\", \"mobile\", \"model\", \"module\", \"mongodb\", \"multiple\", \"multiple\", \"multiple\", \"multiple\", \"multiple\", \"multiple\", \"multiple\", \"multiple\", \"mvc\", \"mysql\", \"name\", \"name\", \"name\", \"native\", \"nested\", \"net\", \"network\", \"ng\", \"node\", \"non\", \"notification\", \"null\", \"number\", \"number\", \"object\", \"object\", \"object\", \"one\", \"one\", \"one\", \"open\", \"option\", \"oracle\", \"order\", \"output\", \"output\", \"output\", \"package\", \"page\", \"page\", \"page\", \"panda\", \"parameter\", \"parameter\", \"parameter\", \"parent\", \"parse\", \"part\", \"pas\", \"passing\", \"password\", \"path\", \"pattern\", \"pdf\", \"php\", \"php\", \"php\", \"php\", \"play\", \"plot\", \"plugin\", \"point\", \"pointer\", \"position\", \"post\", \"powershell\", \"print\", \"process\", \"program\", \"project\", \"properly\", \"property\", \"push\", \"python\", \"python\", \"python\", \"python\", \"python\", \"python\", \"query\", \"r\", \"r\", \"rail\", \"range\", \"react\", \"read\", \"reading\", \"record\", \"redirect\", \"reference\", \"regex\", \"remote\", \"remove\", \"replace\", \"report\", \"request\", \"resource\", \"response\", \"rest\", \"result\", \"return\", \"return\", \"right\", \"route\", \"row\", \"ruby\", \"run\", \"running\", \"save\", \"screen\", \"script\", \"script\", \"script\", \"scroll\", \"sdk\", \"search\", \"search\", \"select\", \"selected\", \"selenium\", \"send\", \"server\", \"server\", \"service\", \"session\", \"set\", \"set\", \"set\", \"set\", \"shell\", \"show\", \"showing\", \"side\", \"single\", \"site\", \"size\", \"size\", \"socket\", \"sort\", \"source\", \"space\", \"spark\", \"specific\", \"split\", \"spring\", \"spring\", \"sql\", \"sqlite\", \"start\", \"state\", \"statement\", \"static\", \"stop\", \"store\", \"string\", \"studio\", \"submit\", \"swift\", \"syntax\", \"system\", \"system\", \"tab\", \"table\", \"table\", \"tag\", \"task\", \"template\", \"test\", \"text\", \"text\", \"text\", \"thread\", \"time\", \"token\", \"top\", \"trying\", \"two\", \"two\", \"two\", \"type\", \"typescript\", \"ui\", \"unable\", \"undefined\", \"update\", \"updating\", \"upload\", \"url\", \"url\", \"url\", \"use\", \"use\", \"use\", \"use\", \"use\", \"use\", \"use\", \"use\", \"use\", \"user\", \"user\", \"using\", \"using\", \"using\", \"using\", \"using\", \"using\", \"using\", \"using\", \"using\", \"validation\", \"value\", \"value\", \"value\", \"value\", \"variable\", \"vba\", \"vector\", \"version\", \"via\", \"video\", \"view\", \"visual\", \"want\", \"way\", \"way\", \"way\", \"way\", \"web\", \"width\", \"window\", \"word\", \"wordpress\", \"work\", \"working\", \"working\", \"working\", \"wpf\", \"wrong\", \"x\", \"xamarin\"]}, \"R\": 30, \"lambda.step\": 0.01, \"plot.opts\": {\"xlab\": \"PC1\", \"ylab\": \"PC2\"}, \"topic.order\": [9, 4, 8, 6, 3, 7, 2, 10, 1, 5]};\n",
       "\n",
       "function LDAvis_load_lib(url, callback){\n",
       "  var s = document.createElement('script');\n",
       "  s.src = url;\n",
       "  s.async = true;\n",
       "  s.onreadystatechange = s.onload = callback;\n",
       "  s.onerror = function(){console.warn(\"failed to load library \" + url);};\n",
       "  document.getElementsByTagName(\"head\")[0].appendChild(s);\n",
       "}\n",
       "\n",
       "if(typeof(LDAvis) !== \"undefined\"){\n",
       "   // already loaded: just create the visualization\n",
       "   !function(LDAvis){\n",
       "       new LDAvis(\"#\" + \"ldavis_el3741713948009744161133458\", ldavis_el3741713948009744161133458_data);\n",
       "   }(LDAvis);\n",
       "}else if(typeof define === \"function\" && define.amd){\n",
       "   // require.js is available: use it to load d3/LDAvis\n",
       "   require.config({paths: {d3: \"https://d3js.org/d3.v5\"}});\n",
       "   require([\"d3\"], function(d3){\n",
       "      window.d3 = d3;\n",
       "      LDAvis_load_lib(\"https://cdn.jsdelivr.net/gh/bmabey/pyLDAvis@3.4.0/pyLDAvis/js/ldavis.v3.0.0.js\", function(){\n",
       "        new LDAvis(\"#\" + \"ldavis_el3741713948009744161133458\", ldavis_el3741713948009744161133458_data);\n",
       "      });\n",
       "    });\n",
       "}else{\n",
       "    // require.js not available: dynamically load d3 & LDAvis\n",
       "    LDAvis_load_lib(\"https://d3js.org/d3.v5.js\", function(){\n",
       "         LDAvis_load_lib(\"https://cdn.jsdelivr.net/gh/bmabey/pyLDAvis@3.4.0/pyLDAvis/js/ldavis.v3.0.0.js\", function(){\n",
       "                 new LDAvis(\"#\" + \"ldavis_el3741713948009744161133458\", ldavis_el3741713948009744161133458_data);\n",
       "            })\n",
       "         });\n",
       "}\n",
       "</script>"
      ],
      "text/plain": [
       "<IPython.core.display.HTML object>"
      ]
     },
     "execution_count": 37,
     "metadata": {},
     "output_type": "execute_result"
    }
   ],
   "source": [
    "import pyLDAvis\n",
    "import pyLDAvis.gensim_models as gensimvis\n",
    "\n",
    "# Prepare the visualization data\n",
    "vis_data = gensimvis.prepare(lda_model, corpora, dictionary)\n",
    "\n",
    "# Enable pyLDAvis in the notebook\n",
    "pyLDAvis.enable_notebook()\n",
    "\n",
    "# Display the interactive visualization\n",
    "pyLDAvis.display(vis_data)"
   ]
  },
  {
   "cell_type": "markdown",
   "metadata": {},
   "source": [
    "### Evaluating LDA Model"
   ]
  },
  {
   "cell_type": "code",
   "execution_count": 43,
   "metadata": {},
   "outputs": [
    {
     "name": "stdout",
     "output_type": "stream",
     "text": [
      "\n",
      "Perplexity:  -8.221812828255267\n",
      "\n",
      "Coherence Score:  0.2888966970234389\n"
     ]
    }
   ],
   "source": [
    "from gensim.models import CoherenceModel\n",
    "from gensim.corpora import Dictionary\n",
    "\n",
    "#  Perplexity\n",
    "perplexity = lda_model.log_perplexity(corpora)\n",
    "print('\\nPerplexity: ', perplexity)  # a measure of how good the model is. lower the better.\n",
    "\n",
    "# Coherence Score\n",
    "coherence_model_lda = CoherenceModel(model=lda_model, texts=titles, dictionary=dictionary, coherence='c_v')\n",
    "coherence_lda = coherence_model_lda.get_coherence()\n",
    "print('\\nCoherence Score: ', coherence_lda)"
   ]
  },
  {
   "cell_type": "markdown",
   "metadata": {},
   "source": [
    "A lower Perplexity value indicates a better fit of the model to the data. In this case, the Perplexity value of -8.221812828255267 suggests that the model has a reasonable fit, but since Perplexity alone doesn't provide a complete picture, it is essential to consider the Coherence Score as well. The score of 0.2888966970234389 indicates that the topics generated by the model have a good level of coherence. This means the model has successfully identified semantically consistent topics, which are valuable for understanding the themes within the data.\n",
    "\n",
    "This LDA model demonstrates good performance with a strong fit to the data, as evidenced by its low Perplexity value. The moderate Coherence Score further highlights the model's ability to produce meaningful and interpretable topics. These results indicate that the model is well-constructed and effective in capturing the essential themes in the dataset. "
   ]
  }
 ],
 "metadata": {
  "kernelspec": {
   "display_name": "Python 3",
   "language": "python",
   "name": "python3"
  },
  "language_info": {
   "codemirror_mode": {
    "name": "ipython",
    "version": 3
   },
   "file_extension": ".py",
   "mimetype": "text/x-python",
   "name": "python",
   "nbconvert_exporter": "python",
   "pygments_lexer": "ipython3",
   "version": "3.11.5"
  }
 },
 "nbformat": 4,
 "nbformat_minor": 2
}
