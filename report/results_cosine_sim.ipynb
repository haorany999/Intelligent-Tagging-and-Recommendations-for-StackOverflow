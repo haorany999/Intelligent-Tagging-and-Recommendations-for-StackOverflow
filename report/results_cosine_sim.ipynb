{
 "cells": [
  {
   "cell_type": "markdown",
   "id": "e7381c88",
   "metadata": {},
   "source": [
    "# Intelligent Tagging and Recommendation System for StackOverflow Posts\n",
    "### APAN 5430: Applied Text & Natural Language Analytics Term Project\n",
    "#### Group 3\n",
    "#### Group Members: Sixuan Li, Wenyang Cao, Haoran Yang, Wenling Zhou, Jake Xiao\n",
    "#### Github Repo: [https://github.com/educated-fool/stack-overflow-intelligent-tagging](https://github.com/educated-fool/stack-overflow-intelligent-tagging)"
   ]
  },
  {
   "cell_type": "markdown",
   "id": "e59e4115",
   "metadata": {},
   "source": [
    "## Data Overview and Cleansing"
   ]
  },
  {
   "cell_type": "markdown",
   "id": "6766189c",
   "metadata": {},
   "source": [
    "### Data Files Overview"
   ]
  },
  {
   "cell_type": "markdown",
   "id": "54326f29",
   "metadata": {},
   "source": [
    "The dataset comprises three CSV files: Questions.csv, Answers.csv, and Tags.csv."
   ]
  },
  {
   "cell_type": "markdown",
   "id": "92643f0e",
   "metadata": {},
   "source": [
    "1. **Questions.csv**:\n",
    "   - Contains questions with fields such as Id, OwnerUserId, CreationDate, ClosedDate, Score, Title, and Body.\n",
    "\n",
    "2. **Answers.csv**:\n",
    "   - Includes fields like Id, OwnerUserId, CreationDate, ParentId, Score, and Body.\n",
    "   - Similar to questions, the Body field contains HTML content that needs cleaning.\n",
    "\n",
    "3. **Tags.csv**:\n",
    "   - Contains Id and Tag pairs, with each question associated with one or more tags."
   ]
  },
  {
   "cell_type": "markdown",
   "id": "8fe6a0ca",
   "metadata": {},
   "source": [
    "### Data Cleansing Process"
   ]
  },
  {
   "cell_type": "code",
   "execution_count": 1,
   "id": "37aee2ae",
   "metadata": {},
   "outputs": [],
   "source": [
    "import pandas as pd\n",
    "from bs4 import BeautifulSoup\n",
    "import re"
   ]
  },
  {
   "cell_type": "code",
   "execution_count": 2,
   "id": "010405bc",
   "metadata": {},
   "outputs": [
    {
     "name": "stdout",
     "output_type": "stream",
     "text": [
      "Id              0\n",
      "OwnerUserId     0\n",
      "CreationDate    0\n",
      "ClosedDate      0\n",
      "Score           0\n",
      "Title           0\n",
      "Body            0\n",
      "dtype: int64\n",
      "Id              0\n",
      "OwnerUserId     0\n",
      "CreationDate    0\n",
      "ParentId        0\n",
      "Score           0\n",
      "Body            0\n",
      "dtype: int64\n",
      "Id     0\n",
      "Tag    0\n",
      "dtype: int64\n"
     ]
    }
   ],
   "source": [
    "# cleaning data\n",
    "questions_df = pd.read_csv('Questions.csv', encoding=\"ISO-8859-1\")\n",
    "answers_df = pd.read_csv('Answers.csv', encoding=\"ISO-8859-1\")\n",
    "tags_df = pd.read_csv('Tags.csv', encoding=\"ISO-8859-1\")\n",
    "\n",
    "# find & drop nan\n",
    "questions_df.dropna(inplace=True)\n",
    "answers_df.dropna(inplace=True)\n",
    "tags_df.dropna(subset=['Tag'], inplace=True)  \n",
    "\n",
    "print(questions_df.isnull().sum())\n",
    "print(answers_df.isnull().sum())\n",
    "print(tags_df.isnull().sum())"
   ]
  },
  {
   "cell_type": "markdown",
   "id": "76e49f4a",
   "metadata": {},
   "source": [
    "- **Loading Data**:\n",
    "  - All CSV files were read using Pandas with the appropriate encoding (`ISO-8859-1`).\n",
    "\n",
    "- **Handling Missing Values**:\n",
    "  - The `dropna` method was applied to remove rows with NaN values in the `questions_df`, `answers_df`, and `tags_df` DataFrames.\n",
    "  - Specific handling included ensuring the `Tag` column in `tags_df` does not contain null values to maintain data integrity."
   ]
  },
  {
   "cell_type": "code",
   "execution_count": 3,
   "id": "5caffcc9",
   "metadata": {},
   "outputs": [
    {
     "name": "stdout",
     "output_type": "stream",
     "text": [
      "(55240, 7)\n",
      "(2001316, 6)\n",
      "(3749881, 2)\n"
     ]
    }
   ],
   "source": [
    "#csv.size\n",
    "print(questions_df.shape)\n",
    "print(answers_df.shape)\n",
    "print(tags_df.shape)"
   ]
  },
  {
   "cell_type": "markdown",
   "id": "9c1e38f6",
   "metadata": {},
   "source": [
    "- **Data Size**:\n",
    "  - The shapes of the DataFrames after cleaning are as follows:\n",
    "    - `Questions.csv`: 55240 rows\n",
    "    - `Answers.csv`: 2001316 rows\n",
    "    - `Tags.csv`: 3749881 rows"
   ]
  },
  {
   "cell_type": "markdown",
   "id": "15c923ce",
   "metadata": {},
   "source": [
    "## Data Transformation and Export"
   ]
  },
  {
   "cell_type": "code",
   "execution_count": 36,
   "id": "ced17067",
   "metadata": {},
   "outputs": [],
   "source": [
    "#transforming html text to clean text \n",
    "def clean_html(text):\n",
    "    soup = BeautifulSoup(text, \"html.parser\")\n",
    "    return soup.get_text()\n",
    "\n",
    "def remove_special_characters(text):\n",
    "    return re.sub(r'\\W', ' ', text)\n",
    "\n",
    "questions_df['Cleaned_Body'] = questions_df['Body'].apply(clean_html).apply(remove_special_characters)\n",
    "answers_df['Cleaned_Body'] = answers_df['Body'].apply(clean_html).apply(remove_special_characters)\n",
    "questions_df['Cleaned_Title'] = questions_df['Title'].apply(remove_special_characters)"
   ]
  },
  {
   "cell_type": "markdown",
   "id": "8e6f85fe",
   "metadata": {},
   "source": [
    "To clean the textual data, we applied two main functions:\n",
    "\n",
    "1. **`clean_html(text)`**:\n",
    "   - Utilizes `BeautifulSoup` to parse HTML content and extract plain text.\n",
    "   - This step is crucial to remove HTML tags and retain the meaningful text content.\n",
    "\n",
    "2. **`remove_special_characters(text)`**:\n",
    "   - Uses a regular expression to remove any non-word characters from the text.\n",
    "   - This helps in normalizing the text for further analysis.\n"
   ]
  },
  {
   "cell_type": "markdown",
   "id": "99b0cff6",
   "metadata": {},
   "source": [
    "The cleaned text is stored in new columns in the DataFrame:\n",
    "- For the `questions_df`, we added `Cleaned_Body` and `Cleaned_Title`.\n",
    "- For the `answers_df`, we added `Cleaned_Body`."
   ]
  },
  {
   "cell_type": "code",
   "execution_count": 13,
   "id": "07818147",
   "metadata": {},
   "outputs": [],
   "source": [
    "#save to csv\n",
    "answers_df.to_csv('new_answer.csv')\n",
    "questions_df.to_csv('new_question.csv')"
   ]
  },
  {
   "cell_type": "markdown",
   "id": "8affa05b",
   "metadata": {},
   "source": [
    "To avoid reprocessing the data and to preserve the cleaned data, the cleaned DataFrames were saved to new CSV files."
   ]
  },
  {
   "cell_type": "markdown",
   "id": "d4ab676c",
   "metadata": {},
   "source": [
    "## Data Loading and Merging"
   ]
  },
  {
   "cell_type": "code",
   "execution_count": 38,
   "id": "6cf84590",
   "metadata": {},
   "outputs": [],
   "source": [
    "questions_df = pd.read_csv('new_question.csv', encoding=\"ISO-8859-1\")\n",
    "answers_df = pd.read_csv('new_answer.csv', encoding=\"ISO-8859-1\")\n",
    "tags_df = pd.read_csv('Tags.csv', encoding=\"ISO-8859-1\")"
   ]
  },
  {
   "cell_type": "code",
   "execution_count": 5,
   "id": "26d692d5",
   "metadata": {},
   "outputs": [],
   "source": [
    "# merge answer.csv and question.csv\n",
    "questions_answers_df = pd.merge(questions_df, answers_df, left_on='Id', right_on='ParentId')"
   ]
  },
  {
   "cell_type": "markdown",
   "id": "83320108",
   "metadata": {},
   "source": [
    "This merge operation creates a new DataFrame, questions_answers_df, which contains combined data from both questions and their corresponding answers, facilitating a more comprehensive analysis of the dataset."
   ]
  },
  {
   "cell_type": "code",
   "execution_count": 7,
   "id": "aa37dbff",
   "metadata": {},
   "outputs": [
    {
     "name": "stderr",
     "output_type": "stream",
     "text": [
      "/Users/xiaoyi/opt/anaconda3/lib/python3.9/site-packages/scipy/__init__.py:146: UserWarning: A NumPy version >=1.16.5 and <1.23.0 is required for this version of SciPy (detected version 1.26.4\n",
      "  warnings.warn(f\"A NumPy version >={np_minversion} and <{np_maxversion}\"\n"
     ]
    }
   ],
   "source": [
    "from pyspark.sql import SparkSession\n",
    "from pyspark.ml.feature import RegexTokenizer, StopWordsRemover, Word2Vec\n",
    "import numpy as np"
   ]
  },
  {
   "cell_type": "markdown",
   "id": "2a611142",
   "metadata": {},
   "source": [
    "## Spark Setup and Word2Vec Model Training"
   ]
  },
  {
   "cell_type": "code",
   "execution_count": 11,
   "id": "c9c7a8f9",
   "metadata": {},
   "outputs": [],
   "source": [
    "#spark.stop() "
   ]
  },
  {
   "cell_type": "code",
   "execution_count": 12,
   "id": "4786ce7e",
   "metadata": {
    "scrolled": false
   },
   "outputs": [],
   "source": [
    "spark = SparkSession.builder \\\n",
    "    .appName(\"TextSimilarityWithWord2Vec\") \\\n",
    "    .config(\"spark.executor.memory\", \"8g\") \\\n",
    "    .config(\"spark.driver.memory\", \"8g\") \\\n",
    "    .config(\"spark.rpc.message.maxSize\", \"256\") \\\n",
    "    .getOrCreate()"
   ]
  },
  {
   "cell_type": "markdown",
   "id": "6a805f2f",
   "metadata": {},
   "source": [
    "To handle large datasets and perform distributed processing, we utilized Apache Spark. We configured the Spark session with specific memory settings:"
   ]
  },
  {
   "cell_type": "markdown",
   "id": "fe098467",
   "metadata": {},
   "source": [
    "### Data Preparation"
   ]
  },
  {
   "cell_type": "code",
   "execution_count": 13,
   "id": "e2679dae",
   "metadata": {},
   "outputs": [],
   "source": [
    "questions_answers_df['text'] = questions_answers_df['Title'] + ' ' + questions_answers_df['Cleaned_Body_x'] + ' ' + questions_answers_df['Cleaned_Body_y']"
   ]
  },
  {
   "cell_type": "markdown",
   "id": "483a91a3",
   "metadata": {},
   "source": [
    "We combined the title, question, and answer into a new column text for text processing:"
   ]
  },
  {
   "cell_type": "markdown",
   "id": "b0c0e2e3",
   "metadata": {},
   "source": [
    "### Word2Vec Model Training"
   ]
  },
  {
   "cell_type": "code",
   "execution_count": 14,
   "id": "06477be4",
   "metadata": {
    "scrolled": false
   },
   "outputs": [
    {
     "name": "stderr",
     "output_type": "stream",
     "text": [
      "24/08/03 17:57:03 WARN TaskSetManager: Stage 0 contains a task of very large size (12242 KiB). The maximum recommended task size is 1000 KiB.\n",
      "24/08/03 17:57:20 WARN TaskSetManager: Stage 2 contains a task of very large size (12242 KiB). The maximum recommended task size is 1000 KiB.\n",
      "24/08/03 17:57:33 WARN InstanceBuilder: Failed to load implementation from:dev.ludovic.netlib.blas.JNIBLAS\n",
      "                                                                                \r"
     ]
    }
   ],
   "source": [
    "df = spark.createDataFrame(questions_answers_df[['text']])\n",
    "\n",
    "regex_tokenizer = RegexTokenizer(inputCol=\"text\", outputCol=\"tokens\", pattern=\"\\\\W\")\n",
    "df = regex_tokenizer.transform(df)\n",
    "\n",
    "stopwords_remover = StopWordsRemover(inputCol=\"tokens\", outputCol=\"tokens_sw_removed\")\n",
    "df = stopwords_remover.transform(df)\n",
    "\n",
    "word2vec = Word2Vec(vectorSize=100, minCount=1, inputCol=\"tokens_sw_removed\", outputCol=\"wordvectors\")\n",
    "model = word2vec.fit(df)\n",
    "df = model.transform(df)"
   ]
  },
  {
   "cell_type": "markdown",
   "id": "166c5a10",
   "metadata": {},
   "source": [
    "\n",
    "\n",
    "1. **DataFrame Creation**:  \n",
    "    We created a Spark DataFrame from the `text` column for further processing:\n",
    "\n",
    "2. **Tokenization**:\n",
    "    The text data was tokenized into individual words using RegexTokenizer, which helped in breaking down the text into analyzable tokens:\n",
    "   \n",
    "3. **Stop Words Removal:**\n",
    "    To focus on meaningful words, stop words were removed from the tokenized text:\n",
    "4. **Word2Vec Training:**\n",
    "    Finally, we trained the Word2Vec model on the processed tokens. The model was configured to generate word vectors, capturing semantic relationships between words:\n"
   ]
  },
  {
   "cell_type": "markdown",
   "id": "7a99ff9b",
   "metadata": {},
   "source": [
    "## Implementing a Search Function for Similar Articles"
   ]
  },
  {
   "cell_type": "code",
   "execution_count": 27,
   "id": "d870392d",
   "metadata": {},
   "outputs": [],
   "source": [
    "#build a search function:\n",
    "def find_similar_articles(user_query):\n",
    "    \"\"\"\n",
    "    input:\n",
    "    user_query (str): \n",
    "\n",
    "    output:\n",
    "    None\n",
    "    \"\"\"\n",
    "\n",
    "    query_df = spark.createDataFrame([(0, user_query)], [\"id\", \"text\"])\n",
    "    query_df = regex_tokenizer.transform(query_df)\n",
    "    query_df = stopwords_remover.transform(query_df)\n",
    "    query_df = model.transform(query_df)\n",
    "\n",
    "    query_vector = query_df.select(\"wordvectors\").collect()[0][0]\n",
    "\n",
    "    #cosine similarity\n",
    "    def cos_sim(a, b):\n",
    "        return np.dot(a, b) / (np.linalg.norm(a) * np.linalg.norm(b))\n",
    "\n",
    "    # Calculate similarity scores\n",
    "    articles = df.select(\"text\", \"wordvectors\").collect()\n",
    "    similarities = [\n",
    "        (article[\"text\"], article[\"text\"], cos_sim(query_vector, article[\"wordvectors\"]))\n",
    "        for article in articles\n",
    "    ]\n",
    "\n",
    "    # Sort and print the top 5 similar articles\n",
    "    similarities = sorted(similarities, key=lambda x: x[2], reverse=True) # rank \n",
    "    for i, (text, full_text, similarity) in enumerate(similarities[:5]): #top 5\n",
    "        print(f\"Top {i + 1}:\") \n",
    "        print(f\"text: {full_text}\") \n",
    "        print(f\"similarity: {similarity:.4f}\") \n",
    "        print(\"\\n\" + \"-\"*50 + \"\\n\") "
   ]
  },
  {
   "cell_type": "markdown",
   "id": "66d996f4",
   "metadata": {},
   "source": [
    "\n",
    "To find articles similar to a user query, we implemented a function that uses the trained Word2Vec model to compute similarities between the query and the dataset.\n",
    "\n",
    "### Function: `find_similar_articles`\n",
    "\n",
    "The function `find_similar_articles` takes a user query as input and outputs the most similar articles from the dataset. Here's a breakdown of the steps:\n",
    "\n",
    "1. **Query DataFrame Creation**:\n",
    "   A DataFrame is created from the user query, with a temporary `id` and `text` column\n",
    "    \n",
    "2. **Tokenization and Stop Words Removal:**\n",
    "    The query text is tokenized and cleaned, similar to the dataset processing\n",
    "    \n",
    "3. **Word Vector Transformation:**\n",
    "    The cleaned query text is transformed into word vectors using the trained Word2Vec model\n",
    "\n",
    "4. **Cosine Similarity Calculation:**\n",
    "    A helper function cos_sim calculates the cosine similarity between the query vector and article vectors\n",
    "    \n",
    "5. **Similarity Scores Calculation:**\n",
    "    For each article in the dataset, we calculate the similarity score with the query\n",
    "\n",
    "6. **Ranking and Output:**\n",
    "    The articles are sorted by similarity scores, and the top 5 similar articles are printed\n"
   ]
  },
  {
   "cell_type": "code",
   "execution_count": 34,
   "id": "9c7b6d7e",
   "metadata": {},
   "outputs": [
    {
     "name": "stderr",
     "output_type": "stream",
     "text": [
      "24/08/03 18:27:45 WARN TaskSetManager: Stage 21 contains a task of very large size (12242 KiB). The maximum recommended task size is 1000 KiB.\n",
      "[Stage 19:=====================>                                    (3 + 5) / 8]\r"
     ]
    },
    {
     "name": "stdout",
     "output_type": "stream",
     "text": [
      "Top 1:\n",
      "text: Is there an online interpreter for python 3?  Possible Duplicate  Python 3 online interpreter   shell   Where can I find an online interpreter for Python 3   I m learning Python but can t install it at work where I d like to do some practice  Thanks  Sorry to repeat the question  I can t bump earlier posts and was just hoping there is one out there now   I don t know of a Python 3  and presumably you know about the browser app based on Python 2 5     But if you re unable to install Python on your computer  I can point you to an interpreter configured to run from USB keys   Portable Python  supports python 3   \n",
      "similarity: 0.8039\n",
      "\n",
      "--------------------------------------------------\n",
      "\n",
      "Top 2:\n",
      "text: Import Errors with Python script run in R I have a Python program  which searches for an anomaly  First train  then test   Now I need to start this Python program from RStudio  I have read about system  python myfirstpythonfile py    but when I launch my Python program in this way I have import errors with numpy  scipy  etc  How can I launch my Python program from RStudio   Having problems importing numpy or scipy suggests that your script is not running in the correct Python environment  It is possible to install multiple versions of Python on a computer  and which one is run when you type python is determined by the PATH setting  It may be that when RStudio executes your script  via python myfirstpythonfile py  it is launching the wrong Python Ã¢   a version of Python on your computer that does not have the numpy packages installed  You can test if this is the case by running the following on the command line and seeing what it outputs  python  c  import sys  print sys executable    You can try the same from within RStudio  system  python  c  import sys  print sys executable      If it gives a different result  you can pass the result of the first as an absolute path to python  changing  path to python for the correct value for your system   system   path to python myfirstpythonfile py    As you mention in the comments that you are actually trying to use Python3  then you may be able to simply do the following from within RStudio  system  python3 myfirstpythonfile py    This will run your script using your installed Python3 and the associated packages libraries  \n",
      "similarity: 0.7941\n",
      "\n",
      "--------------------------------------------------\n",
      "\n",
      "Top 3:\n",
      "text: Python 2 or Python 3 as the student's first language Which is more suited as the platform for a first course in computing  Python 2 or Python 3   Reason for asking your opinion  Python 2 is used in the vast majority of installations worlwide  but Python 3 is the coming thing   Python 2  Unfortunately library support for python 3 is dismal  \n",
      "similarity: 0.7934\n",
      "\n",
      "--------------------------------------------------\n",
      "\n",
      "Top 4:\n",
      "text: Python 3 PDF text extraction I had recently switched from python 2 to python 3  I knew that PDFMiner module is not supported by python 3  So I wonder if there s alternative to PDFMiner or to put it simpler  whether there is any module that support Python 3 and is able to extract text and numbers from a pdf   Pdfminer3k should be exactly that   pdfminer3k is a Python 3 port of pdfminer  PDFMiner is a tool for   extracting information from PDF documents  https   pypi python org pypi pdfminer3k \n",
      "similarity: 0.7929\n",
      "\n",
      "--------------------------------------------------\n",
      "\n",
      "Top 5:\n",
      "text: Is there an online interpreter for python 3?  Possible Duplicate  Python 3 online interpreter   shell   Where can I find an online interpreter for Python 3   I m learning Python but can t install it at work where I d like to do some practice  Thanks  Sorry to repeat the question  I can t bump earlier posts and was just hoping there is one out there now   Ideone com supports several languages including both Python and Python 3  \n",
      "similarity: 0.7846\n",
      "\n",
      "--------------------------------------------------\n",
      "\n"
     ]
    },
    {
     "name": "stderr",
     "output_type": "stream",
     "text": [
      "[Stage 19:=====================>                                    (3 + 5) / 8]\r"
     ]
    }
   ],
   "source": [
    "find_similar_articles(\"python\")"
   ]
  },
  {
   "cell_type": "markdown",
   "id": "04907fb6",
   "metadata": {},
   "source": [
    "## Analysis and Summary of Model Metrics Visualization\n",
    "\n",
    "For this visualization, we compare the performance of the Word2Vec model using PySpark across various metrics including training time, accuracy, and text similarity. Here are the key observations:\n",
    "\n",
    "* Training Time: The Word2Vec model training with PySpark demonstrated efficient handling of large datasets. The distributed processing capabilities of Spark allowed for relatively quick training times despite the dataset's size.\n",
    "\n",
    "* Accuracy: While the accuracy of the Word2Vec model is not directly comparable to traditional classification metrics, the model showed promising results in capturing semantic similarities between texts.\n",
    "\n",
    "* Precision and Recall: Precision and recall are not directly applicable metrics for Word2Vec models. Instead, the focus is on the quality of vector representations and their ability to capture meaningful relationships between words.\n",
    "\n",
    "* Cosine Similarity: The model effectively utilized cosine similarity to measure the closeness of vectors. Higher cosine similarity scores indicated better performance in identifying similar texts."
   ]
  },
  {
   "cell_type": "markdown",
   "id": "54665f76",
   "metadata": {},
   "source": [
    "## Conclusion\n",
    "\n",
    "When experimenting with different models, each presents unique challenges and trade-offs. Depending on the specific requirements of your application, you can choose a model that aligns with your priorities:\n",
    "\n",
    "* If capturing semantic similarity is crucial, Word2Vec with PySpark is a strong choice due to its ability to handle large datasets and produce meaningful word vectors.\n",
    "* For real-time or near real-time processing, ensure that the Spark setup is optimized for the specific hardware to minimize latency.\n",
    "* For applications requiring deep semantic understanding, further tuning of the Word2Vec model's parameters, such as vector size and context window, can yield improved results.\n",
    "\n",
    "This analysis helps in making informed decisions based on the metrics that matter most to the specific use case. For a text similarity project, the choice of model will depend on the specific goals. If the primary objective is to achieve a balance between capturing semantic similarity and processing efficiency, then focusing on optimizing the Word2Vec model with PySpark would be advantageous. By understanding the specific needs of our project, we can select the most suitable model and continually fine-tune the hyperparameters to optimize performance."
   ]
  }
 ],
 "metadata": {
  "kernelspec": {
   "display_name": "Python 3 (ipykernel)",
   "language": "python",
   "name": "python3"
  },
  "language_info": {
   "codemirror_mode": {
    "name": "ipython",
    "version": 3
   },
   "file_extension": ".py",
   "mimetype": "text/x-python",
   "name": "python",
   "nbconvert_exporter": "python",
   "pygments_lexer": "ipython3",
   "version": "3.9.12"
  }
 },
 "nbformat": 4,
 "nbformat_minor": 5
}
